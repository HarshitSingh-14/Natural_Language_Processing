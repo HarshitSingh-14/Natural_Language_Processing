{
 "cells": [
  {
   "cell_type": "code",
   "execution_count": 12,
   "id": "d5c0078f",
   "metadata": {},
   "outputs": [],
   "source": [
    "import spacy"
   ]
  },
  {
   "cell_type": "code",
   "execution_count": 19,
   "id": "7bac8d52",
   "metadata": {},
   "outputs": [],
   "source": [
    "nlp=spacy.load('en_core_web_sm')   # loading the model "
   ]
  },
  {
   "cell_type": "code",
   "execution_count": 32,
   "id": "ddfd0c7f",
   "metadata": {},
   "outputs": [],
   "source": [
    "doc = nlp(u\"We are n't going to go for  ateleast 3 research papers ;)\")"
   ]
  },
  {
   "cell_type": "code",
   "execution_count": 33,
   "id": "2ec6366c",
   "metadata": {},
   "outputs": [
    {
     "name": "stdout",
     "output_type": "stream",
     "text": [
      "We\n",
      "are\n",
      "n't\n",
      "going\n",
      "to\n",
      "go\n",
      "for\n",
      " \n",
      "ateleast\n",
      "3\n",
      "research\n",
      "papers\n",
      ";)\n"
     ]
    }
   ],
   "source": [
    "for token in doc:\n",
    "    print(token.text)"
   ]
  },
  {
   "cell_type": "markdown",
   "id": "ef6347e0",
   "metadata": {},
   "source": [
    "### Parts of speech"
   ]
  },
  {
   "cell_type": "code",
   "execution_count": 34,
   "id": "5cc4d11a",
   "metadata": {},
   "outputs": [
    {
     "name": "stdout",
     "output_type": "stream",
     "text": [
      "We PRON nsubj\n",
      "are VERB aux\n",
      "n't ADV neg\n",
      "going VERB ROOT\n",
      "to PART aux\n",
      "go VERB xcomp\n",
      "for ADP prep\n",
      "  SPACE \n",
      "ateleast NOUN advmod\n",
      "3 NUM nummod\n",
      "research NOUN compound\n",
      "papers NOUN npadvmod\n",
      ";) PUNCT punct\n"
     ]
    }
   ],
   "source": [
    "for token in doc: \n",
    "    print(token.text , token.pos_ , token.dep_)    # dep -> token dependencies\n",
    "    \n",
    "# ns -> nominal subject \n"
   ]
  },
  {
   "cell_type": "code",
   "execution_count": 30,
   "id": "6dfabb52",
   "metadata": {},
   "outputs": [
    {
     "data": {
      "text/plain": [
       "[('tagger', <spacy.pipeline.Tagger at 0x7f8d45506150>),\n",
       " ('parser', <spacy.pipeline.DependencyParser at 0x7f8cf04f1530>),\n",
       " ('ner', <spacy.pipeline.EntityRecognizer at 0x7f8cf04f1ad0>)]"
      ]
     },
     "execution_count": 30,
     "metadata": {},
     "output_type": "execute_result"
    }
   ],
   "source": [
    "nlp.pipeline"
   ]
  },
  {
   "cell_type": "code",
   "execution_count": 31,
   "id": "0d59bfbe",
   "metadata": {},
   "outputs": [
    {
     "data": {
      "text/plain": [
       "['tagger', 'parser', 'ner']"
      ]
     },
     "execution_count": 31,
     "metadata": {},
     "output_type": "execute_result"
    }
   ],
   "source": [
    "nlp.pipe_names"
   ]
  },
  {
   "cell_type": "code",
   "execution_count": null,
   "id": "e56c6568",
   "metadata": {},
   "outputs": [],
   "source": []
  },
  {
   "cell_type": "code",
   "execution_count": null,
   "id": "22c1488e",
   "metadata": {},
   "outputs": [],
   "source": []
  },
  {
   "cell_type": "code",
   "execution_count": 35,
   "id": "f7ee8453",
   "metadata": {},
   "outputs": [
    {
     "data": {
      "text/plain": [
       "'PRON'"
      ]
     },
     "execution_count": 35,
     "metadata": {},
     "output_type": "execute_result"
    }
   ],
   "source": [
    "doc[0].pos_"
   ]
  },
  {
   "cell_type": "markdown",
   "id": "9a1e1c92",
   "metadata": {},
   "source": [
    "#### Lemmas -> (The base form of the word)"
   ]
  },
  {
   "cell_type": "code",
   "execution_count": 39,
   "id": "41fb04c4",
   "metadata": {},
   "outputs": [
    {
     "name": "stdout",
     "output_type": "stream",
     "text": [
      "going\n",
      "go\n"
     ]
    }
   ],
   "source": [
    "print(doc[3].text)\n",
    "print(doc[3].lemma_)"
   ]
  },
  {
   "cell_type": "markdown",
   "id": "02162c8d",
   "metadata": {},
   "source": [
    "#### Simple parts of speech & detailed tags:"
   ]
  },
  {
   "cell_type": "code",
   "execution_count": 40,
   "id": "12f3977b",
   "metadata": {},
   "outputs": [
    {
     "name": "stdout",
     "output_type": "stream",
     "text": [
      "ADV\n"
     ]
    }
   ],
   "source": [
    "print(doc[2].pos_)"
   ]
  },
  {
   "cell_type": "code",
   "execution_count": 44,
   "id": "a5b17a1a",
   "metadata": {},
   "outputs": [
    {
     "name": "stdout",
     "output_type": "stream",
     "text": [
      "RB / adverb\n"
     ]
    }
   ],
   "source": [
    "print(doc[2].tag_ +  ' / ' + spacy.explain(doc[2].tag_)) # full explian "
   ]
  },
  {
   "cell_type": "markdown",
   "id": "79193928",
   "metadata": {},
   "source": [
    "#### Word shapes :"
   ]
  },
  {
   "cell_type": "code",
   "execution_count": 49,
   "id": "f96d11e9",
   "metadata": {},
   "outputs": [
    {
     "name": "stdout",
     "output_type": "stream",
     "text": [
      "are:xxx\n",
      "to:xx\n"
     ]
    }
   ],
   "source": [
    "print(doc[1].text + ':' + doc[1].shape_)\n",
    "print(doc[4].text + ':' + doc[4].shape_)"
   ]
  },
  {
   "cell_type": "markdown",
   "id": "8255aa62",
   "metadata": {},
   "source": [
    "#### Boolean values:"
   ]
  },
  {
   "cell_type": "code",
   "execution_count": 69,
   "id": "b236e572",
   "metadata": {},
   "outputs": [
    {
     "name": "stdout",
     "output_type": "stream",
     "text": [
      "We          is stop or not-->  False\n",
      "are         is stop or not-->  True\n",
      "n't         is stop or not-->  False\n",
      "going       is stop or not-->  False\n",
      "to          is stop or not-->  True\n",
      "go          is stop or not-->  True\n",
      "for         is stop or not-->  True\n",
      "            is stop or not-->  False\n",
      "ateleast    is stop or not-->  False\n",
      "3           is stop or not-->  False\n",
      "research    is stop or not-->  False\n",
      "papers      is stop or not-->  False\n",
      ";)          is stop or not-->  False\n"
     ]
    }
   ],
   "source": [
    "for i in doc:\n",
    "    print(f\"{i.text:{10}}  is stop or not-->  {i.is_stop}\")\n"
   ]
  },
  {
   "cell_type": "markdown",
   "id": "e374a2d4",
   "metadata": {},
   "source": [
    "## SPans "
   ]
  },
  {
   "cell_type": "markdown",
   "id": "ff7049c1",
   "metadata": {},
   "source": [
    "#### Large Doc objects can be hard to work with at times. A span is a slice of Doc object in the form Doc [start:stop] ."
   ]
  },
  {
   "cell_type": "code",
   "execution_count": 82,
   "id": "858869ae",
   "metadata": {},
   "outputs": [],
   "source": [
    "doc2 = nlp(u'Although commonly attributed to John Lennon from his song \"Beautiful \\\n",
    "the phrase \"Life is what happens to us while we are making other plans was writ\\\n",
    "cartoonist. Allen. Saunders and published in Reader\\'s Digest in 1957, when Lennon')"
   ]
  },
  {
   "cell_type": "code",
   "execution_count": 83,
   "id": "78c452d2",
   "metadata": {},
   "outputs": [
    {
     "name": "stdout",
     "output_type": "stream",
     "text": [
      "Beautiful the phrase \"Life is what happens to us while we are making other plans was writcartoonist.\n"
     ]
    }
   ],
   "source": [
    "life_quote = doc2[10:29]\n",
    "print(life_quote)"
   ]
  },
  {
   "cell_type": "code",
   "execution_count": 85,
   "id": "2564a90f",
   "metadata": {},
   "outputs": [
    {
     "data": {
      "text/plain": [
       "spacy.tokens.span.Span"
      ]
     },
     "execution_count": 85,
     "metadata": {},
     "output_type": "execute_result"
    }
   ],
   "source": [
    "type(life_quote)   # span -> a part of a larger document"
   ]
  },
  {
   "cell_type": "code",
   "execution_count": 87,
   "id": "09fa5292",
   "metadata": {},
   "outputs": [
    {
     "data": {
      "text/plain": [
       "spacy.tokens.doc.Doc"
      ]
     },
     "execution_count": 87,
     "metadata": {},
     "output_type": "execute_result"
    }
   ],
   "source": [
    "type(doc2)"
   ]
  },
  {
   "cell_type": "markdown",
   "id": "8b144a2b",
   "metadata": {},
   "source": [
    "#### Spaning to break.."
   ]
  },
  {
   "cell_type": "code",
   "execution_count": 89,
   "id": "c659647a",
   "metadata": {},
   "outputs": [],
   "source": [
    "doc3 = nlp(u\"This is the first sentence. This is another sentence. This is the last sentence\")"
   ]
  },
  {
   "cell_type": "code",
   "execution_count": 97,
   "id": "03c3d1d5",
   "metadata": {},
   "outputs": [
    {
     "name": "stdout",
     "output_type": "stream",
     "text": [
      "This is the first sentence.\n",
      "This is another sentence.\n",
      "This is the last sentence\n"
     ]
    }
   ],
   "source": [
    "for sentence in doc3.sents:\n",
    "    print(sentence)"
   ]
  },
  {
   "cell_type": "code",
   "execution_count": 99,
   "id": "0edc0908",
   "metadata": {},
   "outputs": [
    {
     "data": {
      "text/plain": [
       "This"
      ]
     },
     "execution_count": 99,
     "metadata": {},
     "output_type": "execute_result"
    }
   ],
   "source": [
    "doc3[0]   # "
   ]
  },
  {
   "cell_type": "code",
   "execution_count": 105,
   "id": "c3d091ab",
   "metadata": {},
   "outputs": [],
   "source": [
    "doc3[0].is_sent_start"
   ]
  },
  {
   "cell_type": "code",
   "execution_count": null,
   "id": "b52eb2e4",
   "metadata": {},
   "outputs": [],
   "source": []
  }
 ],
 "metadata": {
  "kernelspec": {
   "display_name": "Python 3 (ipykernel)",
   "language": "python",
   "name": "python3"
  },
  "language_info": {
   "codemirror_mode": {
    "name": "ipython",
    "version": 3
   },
   "file_extension": ".py",
   "mimetype": "text/x-python",
   "name": "python",
   "nbconvert_exporter": "python",
   "pygments_lexer": "ipython3",
   "version": "3.7.13"
  }
 },
 "nbformat": 4,
 "nbformat_minor": 5
}
