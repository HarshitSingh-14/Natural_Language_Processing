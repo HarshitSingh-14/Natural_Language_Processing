{
 "cells": [
  {
   "cell_type": "code",
   "execution_count": 1,
   "id": "7bdbd72c",
   "metadata": {},
   "outputs": [],
   "source": [
    "import spacy"
   ]
  },
  {
   "cell_type": "code",
   "execution_count": 2,
   "id": "d55c3c9d",
   "metadata": {},
   "outputs": [],
   "source": [
    "nlp = spacy.load('en_core_web_sm')"
   ]
  },
  {
   "cell_type": "code",
   "execution_count": 3,
   "id": "d16e525d",
   "metadata": {},
   "outputs": [],
   "source": [
    "from spacy.matcher import Matcher"
   ]
  },
  {
   "cell_type": "code",
   "execution_count": 4,
   "id": "e4d0c660",
   "metadata": {},
   "outputs": [],
   "source": [
    "matcher = Matcher(nlp.vocab)"
   ]
  },
  {
   "cell_type": "code",
   "execution_count": 10,
   "id": "6ad66e40",
   "metadata": {},
   "outputs": [],
   "source": [
    "# SolarPower\n",
    "pattern1 = [{'LOWER': ' solarpower'}]\n",
    "# Solar-power\n",
    "pattern2 = [{'LOWER': 'solar'}, {'IS_PUNCT': True}, {'LOWER': 'power'}]\n",
    "#Solar power\n",
    "pattern3 = [ { 'LOWER': 'solar'}, {'LOWER' :'power'} ]"
   ]
  },
  {
   "cell_type": "code",
   "execution_count": 11,
   "id": "444eade4",
   "metadata": {},
   "outputs": [],
   "source": [
    "matcher.add('SolarPower',None , pattern1,pattern2,pattern3)"
   ]
  },
  {
   "cell_type": "code",
   "execution_count": 20,
   "id": "fb7878e6",
   "metadata": {},
   "outputs": [],
   "source": [
    "doc = nlp (u\"The Solar Power industry continues to grow a solarpower increases. Solar-Power is amazing\")"
   ]
  },
  {
   "cell_type": "code",
   "execution_count": 21,
   "id": "43448731",
   "metadata": {},
   "outputs": [],
   "source": [
    "found_matches= matcher(doc)"
   ]
  },
  {
   "cell_type": "code",
   "execution_count": 22,
   "id": "2d1cd979",
   "metadata": {},
   "outputs": [
    {
     "name": "stdout",
     "output_type": "stream",
     "text": [
      "[(8656102463236116519, 1, 3), (8656102463236116519, 11, 14)]\n"
     ]
    }
   ],
   "source": [
    "print(found_matches)  # index 1 and 2 "
   ]
  },
  {
   "cell_type": "code",
   "execution_count": 23,
   "id": "c77515a4",
   "metadata": {},
   "outputs": [
    {
     "name": "stdout",
     "output_type": "stream",
     "text": [
      "8656102463236116519 SolarPower 1 3 Solar Power\n",
      "8656102463236116519 SolarPower 11 14 Solar-Power\n"
     ]
    }
   ],
   "source": [
    "for match_id, start, end in found_matches:\n",
    "    string_id = nlp. vocab.strings[match_id] # get string representation\n",
    "    span = doc[start:end] # get the matched span\n",
    "    print (match_id, string_id, start, end, span. text)"
   ]
  },
  {
   "cell_type": "code",
   "execution_count": 24,
   "id": "86d55a86",
   "metadata": {},
   "outputs": [],
   "source": [
    "matcher.remove('SolarPower')"
   ]
  },
  {
   "cell_type": "code",
   "execution_count": null,
   "id": "fb538b08",
   "metadata": {},
   "outputs": [],
   "source": []
  },
  {
   "cell_type": "code",
   "execution_count": 26,
   "id": "87339cb6",
   "metadata": {},
   "outputs": [],
   "source": [
    "# solarpower SolarPower\n",
    "pattern1 = [ {'LOWER': 'solarpower'}]\n",
    "# solar. power\n",
    "pattern2 = [ {'LOWER': 'solar'}, {'IS PUNCT': True, 'OP': '*'}, {'LOWER': 'power'}]"
   ]
  },
  {
   "cell_type": "code",
   "execution_count": 27,
   "id": "5a560ab0",
   "metadata": {},
   "outputs": [
    {
     "name": "stdout",
     "output_type": "stream",
     "text": [
      "[(10, 0, 1), (8656102463236116519, 4, 5)]\n"
     ]
    }
   ],
   "source": [
    "matcher. add('SolarPower', None,pattern1, pattern2)\n",
    "doc2 = nlp (u\"Solar-power is solarpower yay!\")\n",
    "found_matches = matcher(doc2)\n",
    "print (found_matches)"
   ]
  },
  {
   "cell_type": "code",
   "execution_count": null,
   "id": "bd6100d0",
   "metadata": {},
   "outputs": [],
   "source": []
  }
 ],
 "metadata": {
  "kernelspec": {
   "display_name": "Python 3 (ipykernel)",
   "language": "python",
   "name": "python3"
  },
  "language_info": {
   "codemirror_mode": {
    "name": "ipython",
    "version": 3
   },
   "file_extension": ".py",
   "mimetype": "text/x-python",
   "name": "python",
   "nbconvert_exporter": "python",
   "pygments_lexer": "ipython3",
   "version": "3.7.13"
  }
 },
 "nbformat": 4,
 "nbformat_minor": 5
}
