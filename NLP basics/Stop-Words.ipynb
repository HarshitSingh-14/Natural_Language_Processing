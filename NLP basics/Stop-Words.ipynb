{
 "cells": [
  {
   "cell_type": "code",
   "execution_count": 1,
   "id": "c5c6ae30",
   "metadata": {},
   "outputs": [],
   "source": [
    "import spacy "
   ]
  },
  {
   "cell_type": "code",
   "execution_count": 6,
   "id": "e3a81d0a",
   "metadata": {},
   "outputs": [],
   "source": [
    "nlp= spacy.load('en_core_web_sm')"
   ]
  },
  {
   "cell_type": "markdown",
   "id": "f02ddd20",
   "metadata": {},
   "source": [
    "##### List of STOP Words"
   ]
  },
  {
   "cell_type": "code",
   "execution_count": 8,
   "id": "3dd94153",
   "metadata": {},
   "outputs": [
    {
     "name": "stdout",
     "output_type": "stream",
     "text": [
      "{'besides', 'mostly', 'get', 'as', 'whereas', 'although', 'seem', 'call', 'due', 'less', 'using', 'while', 'your', 'therefore', 'upon', 'except', 'even', 'itself', 'name', 'does', 'three', 'who', 'beyond', 'though', 'top', 'between', 'here', 'himself', 'some', 'when', 'wherein', 'will', 'each', 'why', 'made', 'therein', 'behind', 'is', 'she', 'used', 'hence', 'someone', 'nine', 'are', 'almost', 'cannot', 'per', 'forty', 'around', 'or', 'seems', 'hers', 'must', 'no', 'becoming', 'least', 'and', 'former', 'full', 'go', 'has', 'do', 'however', 'keep', 'towards', 'twenty', 'off', 'latter', 'you', 'else', 'our', 'thru', 'were', 'both', 'back', 'whose', 'anyone', 'should', 'thereafter', 'they', 'move', 'various', 'at', 'more', 'herein', 'themselves', 'whoever', 'fifty', 'never', 'afterwards', 'make', 'regarding', 'empty', 'please', 'its', 'hereby', 'since', 'last', 'many', 'a', 'about', 'i', 'others', 'take', 'up', 'these', 'would', 'yours', 'thereby', 'also', 'sometime', 'perhaps', 'so', 'them', 'one', 'on', 'well', 'done', 'latterly', 'he', 'show', 'am', 'every', 'herself', 'whole', 'alone', 'everyone', 'his', 'six', 'doing', 'really', 'into', 'whom', 'after', 'first', 'by', 'if', 'thus', 'toward', 'very', 'noone', 'it', 'nevertheless', 'which', 'where', 'namely', 'those', 'any', 'her', 'whereafter', 'own', 'anyhow', 'ourselves', 'further', 'being', 'mine', 'other', 'meanwhile', 'was', 'ca', 'him', 'there', 'over', 'among', 'only', 'everything', 'nobody', 'five', 'bottom', 'serious', 'within', 'thereupon', 'yourself', 'how', 'neither', 'during', 'put', 'be', 'front', 'sixty', 'their', 'but', 'most', 'eight', 'of', 'side', 'amount', 'whither', 'out', 'fifteen', 'myself', 'anywhere', 'becomes', 'amongst', 'none', 'wherever', 'indeed', 'anything', 'rather', 'sometimes', 'now', 'not', 're', 'through', 'anyway', 'until', 'could', 'for', 'always', 'enough', 'had', 'became', 'few', 'next', 'several', 'what', 'hereafter', 'against', 'ten', 'to', 'then', 'see', 'thence', 'an', 'still', 'become', 'down', 'elsewhere', 'together', 'eleven', 'whether', 'ever', 'via', 'can', 'already', 'than', 'moreover', 'much', 'same', 'whence', 'without', 'all', 'seemed', 'somehow', 'something', 'third', 'often', 'give', 'yourselves', 'yet', 'us', 'whatever', 'hereupon', 'quite', 'did', 'because', 'just', 'unless', 'whenever', 'along', 'above', 'hundred', 'me', 'another', 'this', 'in', 'may', 'with', 'across', 'nowhere', 'seeming', 'whereby', 'might', 'again', 'my', 'two', 'beside', 'say', 'onto', 'before', 'from', 'part', 'such', 'twelve', 'nothing', 'that', 'under', 'either', 'been', 'somewhere', 'too', 'have', 'ours', 'beforehand', 'once', 'below', 'everywhere', 'the', 'we', 'whereupon', 'throughout', 'formerly', 'otherwise', 'four', 'nor'}\n"
     ]
    }
   ],
   "source": [
    "print(nlp.Defaults.stop_words)    #"
   ]
  },
  {
   "cell_type": "code",
   "execution_count": 9,
   "id": "402d8d71",
   "metadata": {},
   "outputs": [
    {
     "data": {
      "text/plain": [
       "305"
      ]
     },
     "execution_count": 9,
     "metadata": {},
     "output_type": "execute_result"
    }
   ],
   "source": [
    "len(nlp.Defaults.stop_words)    #"
   ]
  },
  {
   "cell_type": "code",
   "execution_count": 10,
   "id": "77f79b35",
   "metadata": {},
   "outputs": [
    {
     "data": {
      "text/plain": [
       "True"
      ]
     },
     "execution_count": 10,
     "metadata": {},
     "output_type": "execute_result"
    }
   ],
   "source": [
    "nlp.vocab['is'].is_stop"
   ]
  },
  {
   "cell_type": "code",
   "execution_count": 12,
   "id": "86933447",
   "metadata": {},
   "outputs": [],
   "source": [
    "nlp.vocab['huehue'].is_stop"
   ]
  },
  {
   "cell_type": "markdown",
   "id": "42511732",
   "metadata": {},
   "source": [
    "#### adding a new stemword"
   ]
  },
  {
   "cell_type": "code",
   "execution_count": 15,
   "id": "b5c47a27",
   "metadata": {},
   "outputs": [],
   "source": [
    "nlp.Defaults.stop_words.add('huehue')"
   ]
  },
  {
   "cell_type": "code",
   "execution_count": 16,
   "id": "7e090da9",
   "metadata": {},
   "outputs": [],
   "source": [
    "nlp.vocab['is'].is_stop = True"
   ]
  },
  {
   "cell_type": "code",
   "execution_count": 23,
   "id": "39d329ab",
   "metadata": {},
   "outputs": [
    {
     "data": {
      "text/plain": [
       "306"
      ]
     },
     "execution_count": 23,
     "metadata": {},
     "output_type": "execute_result"
    }
   ],
   "source": [
    "len(nlp.Defaults.stop_words)    #one increases"
   ]
  },
  {
   "cell_type": "code",
   "execution_count": 18,
   "id": "76da5a85",
   "metadata": {},
   "outputs": [
    {
     "data": {
      "text/plain": [
       "True"
      ]
     },
     "execution_count": 18,
     "metadata": {},
     "output_type": "execute_result"
    }
   ],
   "source": [
    "nlp.vocab['huehue'].is_stop"
   ]
  },
  {
   "cell_type": "markdown",
   "id": "820205fb",
   "metadata": {},
   "source": [
    "##### Removing stopword"
   ]
  },
  {
   "cell_type": "code",
   "execution_count": 27,
   "id": "2b18a00d",
   "metadata": {},
   "outputs": [],
   "source": [
    "nlp.Defaults.stop_words.remove('beyond')"
   ]
  },
  {
   "cell_type": "code",
   "execution_count": 28,
   "id": "d2d60183",
   "metadata": {},
   "outputs": [
    {
     "data": {
      "text/plain": [
       "305"
      ]
     },
     "execution_count": 28,
     "metadata": {},
     "output_type": "execute_result"
    }
   ],
   "source": [
    "len(nlp.Defaults.stop_words)    #"
   ]
  },
  {
   "cell_type": "code",
   "execution_count": null,
   "id": "bc0b1cc6",
   "metadata": {},
   "outputs": [],
   "source": []
  }
 ],
 "metadata": {
  "kernelspec": {
   "display_name": "Python 3 (ipykernel)",
   "language": "python",
   "name": "python3"
  },
  "language_info": {
   "codemirror_mode": {
    "name": "ipython",
    "version": 3
   },
   "file_extension": ".py",
   "mimetype": "text/x-python",
   "name": "python",
   "nbconvert_exporter": "python",
   "pygments_lexer": "ipython3",
   "version": "3.7.13"
  }
 },
 "nbformat": 4,
 "nbformat_minor": 5
}
