{
 "cells": [
  {
   "cell_type": "code",
   "execution_count": 1,
   "id": "fe990c62",
   "metadata": {},
   "outputs": [],
   "source": [
    "import numpy as np \n",
    "import pandas as pd "
   ]
  },
  {
   "cell_type": "code",
   "execution_count": 2,
   "id": "d57c37b3",
   "metadata": {},
   "outputs": [],
   "source": [
    "df = pd.read_csv(\"../TextFiles/moviereviews.tsv\", sep ='\\t')"
   ]
  },
  {
   "cell_type": "code",
   "execution_count": 4,
   "id": "0e44fac2",
   "metadata": {},
   "outputs": [
    {
     "data": {
      "text/html": [
       "<div>\n",
       "<style scoped>\n",
       "    .dataframe tbody tr th:only-of-type {\n",
       "        vertical-align: middle;\n",
       "    }\n",
       "\n",
       "    .dataframe tbody tr th {\n",
       "        vertical-align: top;\n",
       "    }\n",
       "\n",
       "    .dataframe thead th {\n",
       "        text-align: right;\n",
       "    }\n",
       "</style>\n",
       "<table border=\"1\" class=\"dataframe\">\n",
       "  <thead>\n",
       "    <tr style=\"text-align: right;\">\n",
       "      <th></th>\n",
       "      <th>label</th>\n",
       "      <th>review</th>\n",
       "    </tr>\n",
       "  </thead>\n",
       "  <tbody>\n",
       "    <tr>\n",
       "      <th>0</th>\n",
       "      <td>neg</td>\n",
       "      <td>how do films like mouse hunt get into theatres...</td>\n",
       "    </tr>\n",
       "    <tr>\n",
       "      <th>1</th>\n",
       "      <td>neg</td>\n",
       "      <td>some talented actresses are blessed with a dem...</td>\n",
       "    </tr>\n",
       "    <tr>\n",
       "      <th>2</th>\n",
       "      <td>pos</td>\n",
       "      <td>this has been an extraordinary year for austra...</td>\n",
       "    </tr>\n",
       "    <tr>\n",
       "      <th>3</th>\n",
       "      <td>pos</td>\n",
       "      <td>according to hollywood movies made in last few...</td>\n",
       "    </tr>\n",
       "    <tr>\n",
       "      <th>4</th>\n",
       "      <td>neg</td>\n",
       "      <td>my first press screening of 1998 and already i...</td>\n",
       "    </tr>\n",
       "  </tbody>\n",
       "</table>\n",
       "</div>"
      ],
      "text/plain": [
       "  label                                             review\n",
       "0   neg  how do films like mouse hunt get into theatres...\n",
       "1   neg  some talented actresses are blessed with a dem...\n",
       "2   pos  this has been an extraordinary year for austra...\n",
       "3   pos  according to hollywood movies made in last few...\n",
       "4   neg  my first press screening of 1998 and already i..."
      ]
     },
     "execution_count": 4,
     "metadata": {},
     "output_type": "execute_result"
    }
   ],
   "source": [
    "df.head()"
   ]
  },
  {
   "cell_type": "code",
   "execution_count": 5,
   "id": "22982545",
   "metadata": {},
   "outputs": [
    {
     "data": {
      "text/plain": [
       "2000"
      ]
     },
     "execution_count": 5,
     "metadata": {},
     "output_type": "execute_result"
    }
   ],
   "source": [
    "len(df)"
   ]
  },
  {
   "cell_type": "code",
   "execution_count": 38,
   "id": "048933cb",
   "metadata": {},
   "outputs": [
    {
     "data": {
      "text/plain": [
       "'this has been an extraordinary year for australian films . \\r\\n \" shine \" has just scooped the pool at the australian film institute awards , picking up best film , best actor , best director etc . to that we can add the gritty \" life \" ( the anguish , courage and friendship of a group of male prisoners in the hiv-positive section of a jail ) and \" love and other catastrophes \" ( a low budget gem about straight and gay love on and near a university campus ) . \\r\\ni can\\'t recall a year in which such a rich and varied celluloid library was unleashed from australia . \\r\\n \" shine \" was one bookend . \\r\\nstand by for the other one : \" dead heart \" . \\r\\n>from the opening credits the theme of division is established . \\r\\nthe cast credits have clear and distinct lines separating their first and last names . \\r\\nbryan | brown . \\r\\nin a desert settlement , hundreds of kilometres from the nearest town , there is an uneasy calm between the local aboriginals and the handful of white settlers who live nearby . \\r\\nthe local police officer has the task of enforcing \" white man\\'s justice \" to the aboriginals . \\r\\nthese are people with a proud 40 , 000 year heritage behind them . \\r\\nnaturally , this includes their own system of justice ; key to which is \" payback \" . \\r\\nan eye for an eye . \\r\\nrevenge . \\r\\nusually extracted by the spearing through of the recipient\\'s thigh . \\r\\nbrown , as the officer , manages quite well to keep the balance . \\r\\nhe admits that he has to \\'bend the rules\\' a bit , including actively encouraging at least one brutal \" payback \" . \\r\\n ( be warned that this scene , near the start , is not for the squeamish ) . \\r\\nthe local priest - an aboriginal , but in the \" white fellas \" church - has a foot on either side of the line . \\r\\nhe is , figuratively and literally , in both camps . \\r\\nernie dingo brings a great deal of understanding to this role as the man in the middle . \\r\\nhe is part churchman and part politician . \\r\\nhowever the tension , like the heat , flies and dust , is always there . \\r\\nwhilst her husband - the local teacher - is in church , white lady kate ( milliken ) and her aborginal friend tony , ( pedersen ) have gone off into the hills . \\r\\nhe takes her to a sacred site , even today strictly men-only . \\r\\nshe appears to not know this . \\r\\ntony tells her that this is a special place , an initiation place . \\r\\nhe then makes love to her , surrounded by ancient rock art . \\r\\nthe community finds out about this sacrilegious act and it\\'s payback time . \\r\\nthe fuse is lit and the brittle inter-racial peace is shattered . \\r\\neveryone is affected in the fall out . \\r\\nto say more is to give away the details of this finely crafted film . \\r\\nsuffice to say it\\'s a rewarding experience . \\r\\nbryan brown , acting and co-producing , is the pivotal character . \\r\\nhis officer is real , human and therefore flawed . \\r\\nbrown comments that he expects audiences to feel warmth towards the man , then suddenly feel angry about him . \\r\\nit wasn\\'t long ago that i visited central australia - ayers rock ( uluru ) and alice springs - for the first time . \\r\\nthe wide-screen cinematography shows the dead heart of australia in a way that captures it\\'s vicious beauty , but never deteriorates into a moving slide show , in which the gorgeous background dominates those pesky actors in the foreground . \\r\\nthe cultural clash has provided the thesis for many a film ; from the western to the birdcage . \\r\\nat least three excellent australian films have covered the aboriginal people and the line between them and we anglo-saxon \\'invaders\\' : \" jedda \" , \" the chant of jimmie blacksmith \" and \" the last wave \" . \\r\\nin a year when the race \\'debate\\' has reared up in australia , it is nourishing to see such an intelligent , non-judgemental film as \" dead heart \" . \\r\\nthe aboriginal priest best sums this up . \\r\\nhe is asked to say if he is a \" black fella or white fella \" . \\r\\n'"
      ]
     },
     "execution_count": 38,
     "metadata": {},
     "output_type": "execute_result"
    }
   ],
   "source": [
    "df['review'][2]   # 0 neg 2 pos..."
   ]
  },
  {
   "cell_type": "code",
   "execution_count": 7,
   "id": "e2125b58",
   "metadata": {},
   "outputs": [],
   "source": [
    "# missing values"
   ]
  },
  {
   "cell_type": "code",
   "execution_count": 8,
   "id": "d12824ea",
   "metadata": {},
   "outputs": [
    {
     "data": {
      "text/plain": [
       "label      0\n",
       "review    35\n",
       "dtype: int64"
      ]
     },
     "execution_count": 8,
     "metadata": {},
     "output_type": "execute_result"
    }
   ],
   "source": [
    "df.isnull().sum()"
   ]
  },
  {
   "cell_type": "code",
   "execution_count": 9,
   "id": "e5be64b4",
   "metadata": {},
   "outputs": [],
   "source": [
    "df.dropna(inplace=True)"
   ]
  },
  {
   "cell_type": "code",
   "execution_count": 11,
   "id": "6b177c9e",
   "metadata": {},
   "outputs": [
    {
     "data": {
      "text/plain": [
       "label     0\n",
       "review    0\n",
       "dtype: int64"
      ]
     },
     "execution_count": 11,
     "metadata": {},
     "output_type": "execute_result"
    }
   ],
   "source": [
    "df.isnull().sum()"
   ]
  },
  {
   "cell_type": "markdown",
   "id": "d93d55a2",
   "metadata": {},
   "source": [
    "###### Remove Empty string"
   ]
  },
  {
   "cell_type": "code",
   "execution_count": 12,
   "id": "800c6e8a",
   "metadata": {},
   "outputs": [],
   "source": [
    "blanks =[]\n",
    "\n",
    "\n",
    "for i , lb ,rv in df.itertuples() :# index label review\n",
    "    if rv.isspace():\n",
    "        blanks.append(i)\n",
    "\n"
   ]
  },
  {
   "cell_type": "code",
   "execution_count": 13,
   "id": "5404209d",
   "metadata": {},
   "outputs": [
    {
     "data": {
      "text/plain": [
       "[57,\n",
       " 71,\n",
       " 147,\n",
       " 151,\n",
       " 283,\n",
       " 307,\n",
       " 313,\n",
       " 323,\n",
       " 343,\n",
       " 351,\n",
       " 427,\n",
       " 501,\n",
       " 633,\n",
       " 675,\n",
       " 815,\n",
       " 851,\n",
       " 977,\n",
       " 1079,\n",
       " 1299,\n",
       " 1455,\n",
       " 1493,\n",
       " 1525,\n",
       " 1531,\n",
       " 1763,\n",
       " 1851,\n",
       " 1905,\n",
       " 1993]"
      ]
     },
     "execution_count": 13,
     "metadata": {},
     "output_type": "execute_result"
    }
   ],
   "source": [
    "blanks  # empty spaces"
   ]
  },
  {
   "cell_type": "code",
   "execution_count": 14,
   "id": "523079b6",
   "metadata": {},
   "outputs": [],
   "source": [
    "df.drop(blanks,inplace = True)"
   ]
  },
  {
   "cell_type": "code",
   "execution_count": 16,
   "id": "a3b28ce6",
   "metadata": {},
   "outputs": [
    {
     "data": {
      "text/plain": [
       "1938"
      ]
     },
     "execution_count": 16,
     "metadata": {},
     "output_type": "execute_result"
    }
   ],
   "source": [
    "len(df)"
   ]
  },
  {
   "cell_type": "code",
   "execution_count": 17,
   "id": "06d5b427",
   "metadata": {},
   "outputs": [],
   "source": [
    "from sklearn.model_selection import train_test_split"
   ]
  },
  {
   "cell_type": "code",
   "execution_count": 18,
   "id": "dae446bc",
   "metadata": {},
   "outputs": [],
   "source": [
    "X= df['review']"
   ]
  },
  {
   "cell_type": "code",
   "execution_count": 19,
   "id": "bb65a001",
   "metadata": {},
   "outputs": [],
   "source": [
    "Y = df['label']"
   ]
  },
  {
   "cell_type": "code",
   "execution_count": 20,
   "id": "1a889ed1",
   "metadata": {},
   "outputs": [],
   "source": [
    "X_train , X_test , Y_train , Y_test = train_test_split(X,Y, test_size = 0.3,random_state= 42)"
   ]
  },
  {
   "cell_type": "code",
   "execution_count": 21,
   "id": "1aefb15b",
   "metadata": {},
   "outputs": [],
   "source": [
    "from sklearn.pipeline import Pipeline\n",
    "from sklearn.feature_extraction.text import TfidfVectorizer\n",
    "from sklearn.svm import LinearSVC"
   ]
  },
  {
   "cell_type": "code",
   "execution_count": 27,
   "id": "542e61b8",
   "metadata": {},
   "outputs": [],
   "source": [
    "text_clf = Pipeline([(('tfidf'),TfidfVectorizer()),('clf',LinearSVC())])"
   ]
  },
  {
   "cell_type": "code",
   "execution_count": 28,
   "id": "29946179",
   "metadata": {},
   "outputs": [
    {
     "data": {
      "text/plain": [
       "Pipeline(memory=None,\n",
       "     steps=[('tfidf', TfidfVectorizer(analyzer='word', binary=False, decode_error='strict',\n",
       "        dtype=<class 'numpy.float64'>, encoding='utf-8', input='content',\n",
       "        lowercase=True, max_df=1.0, max_features=None, min_df=1,\n",
       "        ngram_range=(1, 1), norm='l2', preprocessor=None, smooth_idf=True,...ax_iter=1000,\n",
       "     multi_class='ovr', penalty='l2', random_state=None, tol=0.0001,\n",
       "     verbose=0))])"
      ]
     },
     "execution_count": 28,
     "metadata": {},
     "output_type": "execute_result"
    }
   ],
   "source": [
    "text_clf.fit(X_train,Y_train)"
   ]
  },
  {
   "cell_type": "code",
   "execution_count": 29,
   "id": "cffed355",
   "metadata": {},
   "outputs": [],
   "source": [
    "predictions = text_clf.predict(X_test)"
   ]
  },
  {
   "cell_type": "code",
   "execution_count": 30,
   "id": "43039565",
   "metadata": {},
   "outputs": [],
   "source": [
    "from sklearn.metrics import confusion_matrix,classification_report,accuracy_score"
   ]
  },
  {
   "cell_type": "code",
   "execution_count": 31,
   "id": "cca050d7",
   "metadata": {},
   "outputs": [
    {
     "name": "stdout",
     "output_type": "stream",
     "text": [
      "[[235  47]\n",
      " [ 41 259]]\n"
     ]
    }
   ],
   "source": [
    "print(confusion_matrix(Y_test,predictions))"
   ]
  },
  {
   "cell_type": "code",
   "execution_count": 32,
   "id": "02fd0b67",
   "metadata": {},
   "outputs": [
    {
     "name": "stdout",
     "output_type": "stream",
     "text": [
      "              precision    recall  f1-score   support\n",
      "\n",
      "         neg       0.85      0.83      0.84       282\n",
      "         pos       0.85      0.86      0.85       300\n",
      "\n",
      "   micro avg       0.85      0.85      0.85       582\n",
      "   macro avg       0.85      0.85      0.85       582\n",
      "weighted avg       0.85      0.85      0.85       582\n",
      "\n"
     ]
    }
   ],
   "source": [
    "print(classification_report(Y_test,predictions))"
   ]
  },
  {
   "cell_type": "code",
   "execution_count": 33,
   "id": "e5ac231d",
   "metadata": {},
   "outputs": [
    {
     "name": "stdout",
     "output_type": "stream",
     "text": [
      "0.8487972508591065\n"
     ]
    }
   ],
   "source": [
    "print(accuracy_score(Y_test,predictions))"
   ]
  },
  {
   "cell_type": "code",
   "execution_count": 48,
   "id": "31700b70",
   "metadata": {},
   "outputs": [
    {
     "data": {
      "text/plain": [
       "array(['neg'], dtype=object)"
      ]
     },
     "execution_count": 48,
     "metadata": {},
     "output_type": "execute_result"
    }
   ],
   "source": [
    "text_clf.predict([\" heart break\"])"
   ]
  },
  {
   "cell_type": "code",
   "execution_count": 52,
   "id": "379fffae",
   "metadata": {},
   "outputs": [
    {
     "data": {
      "text/plain": [
       "array(['pos'], dtype=object)"
      ]
     },
     "execution_count": 52,
     "metadata": {},
     "output_type": "execute_result"
    }
   ],
   "source": [
    "text_clf.predict([\"nice movie great love\"])"
   ]
  },
  {
   "cell_type": "code",
   "execution_count": null,
   "id": "fe01b2ad",
   "metadata": {},
   "outputs": [],
   "source": []
  }
 ],
 "metadata": {
  "kernelspec": {
   "display_name": "Python 3 (ipykernel)",
   "language": "python",
   "name": "python3"
  },
  "language_info": {
   "codemirror_mode": {
    "name": "ipython",
    "version": 3
   },
   "file_extension": ".py",
   "mimetype": "text/x-python",
   "name": "python",
   "nbconvert_exporter": "python",
   "pygments_lexer": "ipython3",
   "version": "3.7.13"
  }
 },
 "nbformat": 4,
 "nbformat_minor": 5
}
