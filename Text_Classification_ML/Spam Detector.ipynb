{
 "cells": [
  {
   "cell_type": "code",
   "execution_count": 1,
   "id": "7d8cff9f",
   "metadata": {},
   "outputs": [],
   "source": [
    "import numpy as np\n",
    "import pandas as pd"
   ]
  },
  {
   "cell_type": "code",
   "execution_count": 2,
   "id": "f39d22b3",
   "metadata": {},
   "outputs": [],
   "source": [
    "df= pd.read_csv('../TextFiles/smsspamcollection.tsv' , sep = '\\t')"
   ]
  },
  {
   "cell_type": "code",
   "execution_count": 3,
   "id": "f5592e14",
   "metadata": {},
   "outputs": [
    {
     "data": {
      "text/html": [
       "<div>\n",
       "<style scoped>\n",
       "    .dataframe tbody tr th:only-of-type {\n",
       "        vertical-align: middle;\n",
       "    }\n",
       "\n",
       "    .dataframe tbody tr th {\n",
       "        vertical-align: top;\n",
       "    }\n",
       "\n",
       "    .dataframe thead th {\n",
       "        text-align: right;\n",
       "    }\n",
       "</style>\n",
       "<table border=\"1\" class=\"dataframe\">\n",
       "  <thead>\n",
       "    <tr style=\"text-align: right;\">\n",
       "      <th></th>\n",
       "      <th>label</th>\n",
       "      <th>message</th>\n",
       "      <th>length</th>\n",
       "      <th>punct</th>\n",
       "    </tr>\n",
       "  </thead>\n",
       "  <tbody>\n",
       "    <tr>\n",
       "      <th>0</th>\n",
       "      <td>ham</td>\n",
       "      <td>Go until jurong point, crazy.. Available only ...</td>\n",
       "      <td>111</td>\n",
       "      <td>9</td>\n",
       "    </tr>\n",
       "    <tr>\n",
       "      <th>1</th>\n",
       "      <td>ham</td>\n",
       "      <td>Ok lar... Joking wif u oni...</td>\n",
       "      <td>29</td>\n",
       "      <td>6</td>\n",
       "    </tr>\n",
       "    <tr>\n",
       "      <th>2</th>\n",
       "      <td>spam</td>\n",
       "      <td>Free entry in 2 a wkly comp to win FA Cup fina...</td>\n",
       "      <td>155</td>\n",
       "      <td>6</td>\n",
       "    </tr>\n",
       "    <tr>\n",
       "      <th>3</th>\n",
       "      <td>ham</td>\n",
       "      <td>U dun say so early hor... U c already then say...</td>\n",
       "      <td>49</td>\n",
       "      <td>6</td>\n",
       "    </tr>\n",
       "    <tr>\n",
       "      <th>4</th>\n",
       "      <td>ham</td>\n",
       "      <td>Nah I don't think he goes to usf, he lives aro...</td>\n",
       "      <td>61</td>\n",
       "      <td>2</td>\n",
       "    </tr>\n",
       "  </tbody>\n",
       "</table>\n",
       "</div>"
      ],
      "text/plain": [
       "  label                                            message  length  punct\n",
       "0   ham  Go until jurong point, crazy.. Available only ...     111      9\n",
       "1   ham                      Ok lar... Joking wif u oni...      29      6\n",
       "2  spam  Free entry in 2 a wkly comp to win FA Cup fina...     155      6\n",
       "3   ham  U dun say so early hor... U c already then say...      49      6\n",
       "4   ham  Nah I don't think he goes to usf, he lives aro...      61      2"
      ]
     },
     "execution_count": 3,
     "metadata": {},
     "output_type": "execute_result"
    }
   ],
   "source": [
    "df.head()"
   ]
  },
  {
   "cell_type": "code",
   "execution_count": 4,
   "id": "f4408e7e",
   "metadata": {},
   "outputs": [
    {
     "data": {
      "text/plain": [
       "label      0\n",
       "message    0\n",
       "length     0\n",
       "punct      0\n",
       "dtype: int64"
      ]
     },
     "execution_count": 4,
     "metadata": {},
     "output_type": "execute_result"
    }
   ],
   "source": [
    "df.isnull().sum()"
   ]
  },
  {
   "cell_type": "code",
   "execution_count": 5,
   "id": "edf96b7e",
   "metadata": {},
   "outputs": [
    {
     "data": {
      "text/plain": [
       "ham     4825\n",
       "spam     747\n",
       "Name: label, dtype: int64"
      ]
     },
     "execution_count": 5,
     "metadata": {},
     "output_type": "execute_result"
    }
   ],
   "source": [
    "df['label'].value_counts()   # ballance"
   ]
  },
  {
   "cell_type": "code",
   "execution_count": 6,
   "id": "db34a613",
   "metadata": {},
   "outputs": [
    {
     "name": "stderr",
     "output_type": "stream",
     "text": [
      "/Users/harshitsingh/opt/anaconda3/envs/nlp_course/lib/python3.7/site-packages/sklearn/utils/validation.py:37: DeprecationWarning: distutils Version classes are deprecated. Use packaging.version instead.\n",
      "  LARGE_SPARSE_SUPPORTED = LooseVersion(scipy_version) >= '0.14.0'\n"
     ]
    }
   ],
   "source": [
    "from sklearn.model_selection import train_test_split\n",
    "X = df['message']\n",
    "Y = df['label']\n"
   ]
  },
  {
   "cell_type": "code",
   "execution_count": 7,
   "id": "ab0f3e62",
   "metadata": {},
   "outputs": [],
   "source": [
    "X_train, X_test, Y_train , Y_test = train_test_split(X, Y, test_size = 0.33, random_state=42)"
   ]
  },
  {
   "cell_type": "code",
   "execution_count": null,
   "id": "ef1f108d",
   "metadata": {},
   "outputs": [],
   "source": []
  },
  {
   "cell_type": "markdown",
   "id": "599bf9b1",
   "metadata": {},
   "source": [
    "### vECTorization "
   ]
  },
  {
   "cell_type": "code",
   "execution_count": 8,
   "id": "dbc4d348",
   "metadata": {},
   "outputs": [],
   "source": [
    "from sklearn.feature_extraction.text import CountVectorizer"
   ]
  },
  {
   "cell_type": "code",
   "execution_count": 9,
   "id": "2ca75961",
   "metadata": {},
   "outputs": [],
   "source": [
    "count_vect = CountVectorizer()"
   ]
  },
  {
   "cell_type": "code",
   "execution_count": 10,
   "id": "b25b6251",
   "metadata": {},
   "outputs": [],
   "source": [
    "# FIT VECTORIZER TO THE DATA (build a vocab, count the number of words...)\n",
    "# count_vect.fit(X_train)\n",
    "# X_ train_counts = count_vect. transform(X_ train)\n",
    "# TRANSFORM THE ORIGINAL TEXT MESSAGE-› VECTOR\n",
    "X_train_counts = count_vect.fit_transform(X_train)"
   ]
  },
  {
   "cell_type": "code",
   "execution_count": 11,
   "id": "c326568e",
   "metadata": {},
   "outputs": [
    {
     "data": {
      "text/plain": [
       "<3733x7082 sparse matrix of type '<class 'numpy.int64'>'\n",
       "\twith 49992 stored elements in Compressed Sparse Row format>"
      ]
     },
     "execution_count": 11,
     "metadata": {},
     "output_type": "execute_result"
    }
   ],
   "source": [
    "X_train_counts"
   ]
  },
  {
   "cell_type": "code",
   "execution_count": 12,
   "id": "69f698c7",
   "metadata": {},
   "outputs": [
    {
     "data": {
      "text/plain": [
       "(3733,)"
      ]
     },
     "execution_count": 12,
     "metadata": {},
     "output_type": "execute_result"
    }
   ],
   "source": [
    "X_train.shape"
   ]
  },
  {
   "cell_type": "code",
   "execution_count": 13,
   "id": "c464e64f",
   "metadata": {},
   "outputs": [
    {
     "data": {
      "text/plain": [
       "(3733, 7082)"
      ]
     },
     "execution_count": 13,
     "metadata": {},
     "output_type": "execute_result"
    }
   ],
   "source": [
    "X_train_counts.shape"
   ]
  },
  {
   "cell_type": "markdown",
   "id": "6396434e",
   "metadata": {},
   "source": [
    "#### TF IDF"
   ]
  },
  {
   "cell_type": "code",
   "execution_count": 14,
   "id": "53a243eb",
   "metadata": {},
   "outputs": [],
   "source": [
    "from sklearn.feature_extraction.text import TfidfTransformer"
   ]
  },
  {
   "cell_type": "code",
   "execution_count": 15,
   "id": "7ba7c47a",
   "metadata": {},
   "outputs": [],
   "source": [
    "tfidf_transformer = TfidfTransformer()"
   ]
  },
  {
   "cell_type": "code",
   "execution_count": 16,
   "id": "a3009c5d",
   "metadata": {},
   "outputs": [],
   "source": [
    "X_train_tfidf = tfidf_transformer.fit_transform(X_train_counts)"
   ]
  },
  {
   "cell_type": "code",
   "execution_count": 17,
   "id": "4d890f08",
   "metadata": {},
   "outputs": [
    {
     "data": {
      "text/plain": [
       "(3733, 7082)"
      ]
     },
     "execution_count": 17,
     "metadata": {},
     "output_type": "execute_result"
    }
   ],
   "source": [
    "X_train_tfidf.shape"
   ]
  },
  {
   "cell_type": "code",
   "execution_count": 18,
   "id": "e5d9b2af",
   "metadata": {},
   "outputs": [],
   "source": [
    "from sklearn.feature_extraction.text import TfidfVectorizer\n",
    "vectorizer = TfidfVectorizer() # instance of vectorizer "
   ]
  },
  {
   "cell_type": "code",
   "execution_count": 19,
   "id": "6eaee14d",
   "metadata": {},
   "outputs": [],
   "source": [
    "X_train_tfidf = vectorizer.fit_transform(X_train) # "
   ]
  },
  {
   "cell_type": "markdown",
   "id": "af433460",
   "metadata": {},
   "source": [
    "##### Train a Classifier "
   ]
  },
  {
   "cell_type": "code",
   "execution_count": 20,
   "id": "9c74356f",
   "metadata": {},
   "outputs": [],
   "source": [
    "from sklearn.svm import LinearSVC"
   ]
  },
  {
   "cell_type": "code",
   "execution_count": 21,
   "id": "7f746c1c",
   "metadata": {},
   "outputs": [],
   "source": [
    "clf = LinearSVC()  # instance "
   ]
  },
  {
   "cell_type": "code",
   "execution_count": 22,
   "id": "0f8dd6a2",
   "metadata": {},
   "outputs": [
    {
     "data": {
      "text/plain": [
       "LinearSVC(C=1.0, class_weight=None, dual=True, fit_intercept=True,\n",
       "     intercept_scaling=1, loss='squared_hinge', max_iter=1000,\n",
       "     multi_class='ovr', penalty='l2', random_state=None, tol=0.0001,\n",
       "     verbose=0)"
      ]
     },
     "execution_count": 22,
     "metadata": {},
     "output_type": "execute_result"
    }
   ],
   "source": [
    "clf.fit(X_train_tfidf, Y_train)"
   ]
  },
  {
   "cell_type": "code",
   "execution_count": 23,
   "id": "f7b67dcd",
   "metadata": {},
   "outputs": [],
   "source": [
    "from sklearn.pipeline import Pipeline"
   ]
  },
  {
   "cell_type": "code",
   "execution_count": 27,
   "id": "8fa5d6a6",
   "metadata": {},
   "outputs": [],
   "source": [
    "text_clf = Pipeline([('tfidf',TfidfVectorizer()),('clf',LinearSVC())])# List of tuples  -> All steps in single step"
   ]
  },
  {
   "cell_type": "code",
   "execution_count": 28,
   "id": "572592bf",
   "metadata": {},
   "outputs": [
    {
     "name": "stderr",
     "output_type": "stream",
     "text": [
      "/Users/harshitsingh/opt/anaconda3/envs/nlp_course/lib/python3.7/site-packages/sklearn/utils/validation.py:209: DeprecationWarning: distutils Version classes are deprecated. Use packaging.version instead.\n",
      "  if LooseVersion(joblib_version) < '0.12':\n"
     ]
    },
    {
     "data": {
      "text/plain": [
       "Pipeline(memory=None,\n",
       "     steps=[('tfidf', TfidfVectorizer(analyzer='word', binary=False, decode_error='strict',\n",
       "        dtype=<class 'numpy.float64'>, encoding='utf-8', input='content',\n",
       "        lowercase=True, max_df=1.0, max_features=None, min_df=1,\n",
       "        ngram_range=(1, 1), norm='l2', preprocessor=None, smooth_idf=True,...ax_iter=1000,\n",
       "     multi_class='ovr', penalty='l2', random_state=None, tol=0.0001,\n",
       "     verbose=0))])"
      ]
     },
     "execution_count": 28,
     "metadata": {},
     "output_type": "execute_result"
    }
   ],
   "source": [
    "text_clf.fit(X_train,Y_train)"
   ]
  },
  {
   "cell_type": "code",
   "execution_count": 29,
   "id": "5eb8e605",
   "metadata": {},
   "outputs": [
    {
     "data": {
      "text/plain": [
       "3245    Squeeeeeze!! This is christmas hug.. If u lik ...\n",
       "944     And also I've sorta blown him off a couple tim...\n",
       "1044    Mmm thats better now i got a roast down me! i...\n",
       "2484        Mm have some kanji dont eat anything heavy ok\n",
       "812     So there's a ring that comes with the guys cos...\n",
       "2973    Sary just need Tim in the bollox &it hurt him ...\n",
       "2991    Love isn't a decision, it's a feeling. If we c...\n",
       "2942    My supervisor find 4 me one lor i thk his stud...\n",
       "230                    Dear good morning now only i am up\n",
       "1181                           I'm in chennai velachery:)\n",
       "1912    Lol grr my mom is taking forever with my presc...\n",
       "1992    No other Valentines huh? The proof is on your ...\n",
       "5435                    I'm wif him now buying tix lar...\n",
       "4805    Er, hello, things didn‘t quite go to plan – is...\n",
       "401     FREE RINGTONE text FIRST to 87131 for a poly o...\n",
       "1859                     Sir, i am waiting for your call.\n",
       "1344    Crazy ar he's married. Ü like gd looking guys ...\n",
       "2952                     Hey now am free you can call me.\n",
       "501     Fighting with the world is easy, u either win ...\n",
       "3337                         Then u go back urself lor...\n",
       "1945    Yeah, I'll leave in a couple minutes &amp; let...\n",
       "3142                       Customer place i will call you\n",
       "2422    Err... Cud do. I'm going to  at 8pm. I haven't...\n",
       "381     I guess that's why you re worried. You must kn...\n",
       "5567    This is the 2nd time we have tried 2 contact u...\n",
       "4937                             K..k.:)congratulation ..\n",
       "79      Its not the same here. Still looking for a job...\n",
       "5240     Gud gud..k, chikku tke care.. sleep well gud nyt\n",
       "2554                   Ü give me some time to walk there.\n",
       "5345                                     Wat ü doing now?\n",
       "                              ...                        \n",
       "1744                     I love to wine and dine my lady!\n",
       "3383    Well, I meant as opposed to my drunken night o...\n",
       "3792    Twinks, bears, scallies, skins and jocks are c...\n",
       "1258          Am also doing in cbe only. But have to pay.\n",
       "4319                 S...i will take mokka players only:)\n",
       "1451                            Msg me when rajini comes.\n",
       "2399                             YO YO YO BYATCH WHASSUP?\n",
       "1116    So lets make it saturday or monday as per conv...\n",
       "1541                 K come to nordstrom when you're done\n",
       "3618    Sorry sent blank msg again. Yup but trying 2 d...\n",
       "4252    Omg Joanna is freaking me out. She's looked th...\n",
       "1954    Then just eat a shit and wait for ur monkey fa...\n",
       "5329                        Sir, waiting for your letter.\n",
       "3045    Let me know how it changes in the next 6hrs. I...\n",
       "4041                               I'm at home n ready...\n",
       "3098                Yo, you at jp and hungry like a mofo?\n",
       "2372    Hmm, too many of them unfortunately... Pics ob...\n",
       "445     HEY HEY WERETHE MONKEESPEOPLE SAY WE MONKEYARO...\n",
       "2778    Kind of. Took it to garage. Centre part of exh...\n",
       "4619    Nvm... I'm going to wear my sport shoes anyway...\n",
       "4165                  Its ok, called mom instead have fun\n",
       "1413    Wen ur lovable bcums angry wid u, dnt take it ...\n",
       "452         Thanks for this hope you had a good day today\n",
       "5375    I cant pick the phone right now. Pls send a me...\n",
       "2885    Cbe is really good nowadays:)lot of shop and s...\n",
       "4944    Check mail.i have mailed varma and kept copy t...\n",
       "3313    I know you are serving. I mean what are you do...\n",
       "3652         Want to send me a virtual hug?... I need one\n",
       "14                    I HAVE A DATE ON SUNDAY WITH WILL!!\n",
       "4758    hey, looks like I was wrong and one of the kap...\n",
       "Name: message, Length: 1839, dtype: object"
      ]
     },
     "execution_count": 29,
     "metadata": {},
     "output_type": "execute_result"
    }
   ],
   "source": [
    "X_test"
   ]
  },
  {
   "cell_type": "code",
   "execution_count": 30,
   "id": "7e616c6f",
   "metadata": {},
   "outputs": [],
   "source": [
    "predictions = text_clf.predict(X_test)"
   ]
  },
  {
   "cell_type": "code",
   "execution_count": null,
   "id": "900d6ac2",
   "metadata": {},
   "outputs": [],
   "source": []
  },
  {
   "cell_type": "code",
   "execution_count": 31,
   "id": "79bc5cb6",
   "metadata": {},
   "outputs": [],
   "source": [
    "from sklearn.metrics import confusion_matrix,classification_report"
   ]
  },
  {
   "cell_type": "code",
   "execution_count": 32,
   "id": "75b772db",
   "metadata": {},
   "outputs": [
    {
     "name": "stdout",
     "output_type": "stream",
     "text": [
      "[[1586    7]\n",
      " [  12  234]]\n"
     ]
    }
   ],
   "source": [
    "print(confusion_matrix(Y_test,predictions))"
   ]
  },
  {
   "cell_type": "code",
   "execution_count": 33,
   "id": "7f6fae93",
   "metadata": {},
   "outputs": [
    {
     "name": "stdout",
     "output_type": "stream",
     "text": [
      "              precision    recall  f1-score   support\n",
      "\n",
      "         ham       0.99      1.00      0.99      1593\n",
      "        spam       0.97      0.95      0.96       246\n",
      "\n",
      "   micro avg       0.99      0.99      0.99      1839\n",
      "   macro avg       0.98      0.97      0.98      1839\n",
      "weighted avg       0.99      0.99      0.99      1839\n",
      "\n"
     ]
    }
   ],
   "source": [
    "print(classification_report(Y_test,predictions))"
   ]
  },
  {
   "cell_type": "code",
   "execution_count": 34,
   "id": "5f9d7cec",
   "metadata": {},
   "outputs": [],
   "source": [
    "from sklearn import metrics"
   ]
  },
  {
   "cell_type": "code",
   "execution_count": 35,
   "id": "44d0cef5",
   "metadata": {},
   "outputs": [
    {
     "data": {
      "text/plain": [
       "0.989668297988037"
      ]
     },
     "execution_count": 35,
     "metadata": {},
     "output_type": "execute_result"
    }
   ],
   "source": [
    "metrics.accuracy_score(Y_test,predictions)"
   ]
  },
  {
   "cell_type": "markdown",
   "id": "0415d211",
   "metadata": {},
   "source": [
    "#### CHECK"
   ]
  },
  {
   "cell_type": "code",
   "execution_count": 36,
   "id": "15dc2472",
   "metadata": {},
   "outputs": [
    {
     "data": {
      "text/plain": [
       "array(['ham'], dtype=object)"
      ]
     },
     "execution_count": 36,
     "metadata": {},
     "output_type": "execute_result"
    }
   ],
   "source": [
    "text_clf.predict([\"Hi how are. you doing\"])"
   ]
  },
  {
   "cell_type": "code",
   "execution_count": 37,
   "id": "def81715",
   "metadata": {},
   "outputs": [
    {
     "data": {
      "text/plain": [
       "array(['spam'], dtype=object)"
      ]
     },
     "execution_count": 37,
     "metadata": {},
     "output_type": "execute_result"
    }
   ],
   "source": [
    "text_clf.predict([\"Congratulations! you have been selected as a winner\"])"
   ]
  },
  {
   "cell_type": "code",
   "execution_count": null,
   "id": "ff4ffc5b",
   "metadata": {},
   "outputs": [],
   "source": []
  }
 ],
 "metadata": {
  "kernelspec": {
   "display_name": "Python 3 (ipykernel)",
   "language": "python",
   "name": "python3"
  },
  "language_info": {
   "codemirror_mode": {
    "name": "ipython",
    "version": 3
   },
   "file_extension": ".py",
   "mimetype": "text/x-python",
   "name": "python",
   "nbconvert_exporter": "python",
   "pygments_lexer": "ipython3",
   "version": "3.7.13"
  }
 },
 "nbformat": 4,
 "nbformat_minor": 5
}
