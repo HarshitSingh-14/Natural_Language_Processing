{
 "cells": [
  {
   "cell_type": "code",
   "execution_count": 21,
   "id": "16ffb1ae",
   "metadata": {},
   "outputs": [],
   "source": [
    "import spacy"
   ]
  },
  {
   "cell_type": "code",
   "execution_count": 22,
   "id": "81596ffb",
   "metadata": {},
   "outputs": [],
   "source": [
    "nlp= spacy.load('en_core_web_sm')\n"
   ]
  },
  {
   "cell_type": "code",
   "execution_count": 23,
   "id": "ffb35167",
   "metadata": {},
   "outputs": [],
   "source": [
    "doc = nlp (u\"My name is Hatshit Singh. I am very lazy\")"
   ]
  },
  {
   "cell_type": "code",
   "execution_count": 24,
   "id": "5a32f58e",
   "metadata": {},
   "outputs": [
    {
     "name": "stdout",
     "output_type": "stream",
     "text": [
      "My name is Hatshit Singh. I am very lazy\n"
     ]
    }
   ],
   "source": [
    "print(doc.text)"
   ]
  },
  {
   "cell_type": "code",
   "execution_count": 25,
   "id": "3bbb4279",
   "metadata": {},
   "outputs": [
    {
     "name": "stdout",
     "output_type": "stream",
     "text": [
      "Hatshit\n"
     ]
    }
   ],
   "source": [
    "print(doc[3])"
   ]
  },
  {
   "cell_type": "code",
   "execution_count": 27,
   "id": "520ef427",
   "metadata": {},
   "outputs": [
    {
     "name": "stdout",
     "output_type": "stream",
     "text": [
      "NOUN\n"
     ]
    }
   ],
   "source": [
    "print(doc[1].pos_)"
   ]
  },
  {
   "cell_type": "code",
   "execution_count": 29,
   "id": "c397a8ad",
   "metadata": {},
   "outputs": [
    {
     "name": "stdout",
     "output_type": "stream",
     "text": [
      "RB\n"
     ]
    }
   ],
   "source": [
    "print(doc[8].tag_)"
   ]
  },
  {
   "cell_type": "code",
   "execution_count": 31,
   "id": "b3c21159",
   "metadata": {},
   "outputs": [
    {
     "name": "stdout",
     "output_type": "stream",
     "text": [
      "My         ADJ        PRP$       pronoun, possessive \n",
      "name       NOUN       NN         noun, singular or mass \n",
      "is         VERB       VBZ        verb, 3rd person singular present \n",
      "Hatshit    PROPN      NNP        noun, proper singular \n",
      "Singh      PROPN      NNP        noun, proper singular \n",
      ".          PUNCT      .          punctuation mark, sentence closer \n",
      "I          PRON       PRP        pronoun, personal \n",
      "am         VERB       VBP        verb, non-3rd person singular present \n",
      "very       ADV        RB         adverb \n",
      "lazy       ADJ        JJ         adjective \n"
     ]
    }
   ],
   "source": [
    "for token in doc:\n",
    "    print(f\"{token.text :{10}} {token.pos_ :{10}} {token.tag_ :{10}} {spacy.explain(token.tag_)} \")"
   ]
  },
  {
   "cell_type": "code",
   "execution_count": 32,
   "id": "6d4eb5c4",
   "metadata": {},
   "outputs": [],
   "source": [
    "doc = nlp(\"I read books on NLP\")"
   ]
  },
  {
   "cell_type": "code",
   "execution_count": 37,
   "id": "3f674657",
   "metadata": {},
   "outputs": [
    {
     "name": "stdout",
     "output_type": "stream",
     "text": [
      "read       VERB       VBP        verb, non-3rd person singular present \n"
     ]
    }
   ],
   "source": [
    "word = doc[1]\n",
    "token =word\n",
    "print(f\"{token.text :{10}} {token.pos_ :{10}} {token.tag_ :{10}} {spacy.explain(token.tag_)} \")"
   ]
  },
  {
   "cell_type": "code",
   "execution_count": 38,
   "id": "66baa594",
   "metadata": {},
   "outputs": [],
   "source": [
    "doc = nlp (u\"My name is Hatshit Singh. I am very lazy\")"
   ]
  },
  {
   "cell_type": "code",
   "execution_count": 41,
   "id": "7c86cc6e",
   "metadata": {},
   "outputs": [
    {
     "name": "stdout",
     "output_type": "stream",
     "text": [
      "74\n"
     ]
    }
   ],
   "source": [
    "print(spacy.attrs.POS)"
   ]
  },
  {
   "cell_type": "code",
   "execution_count": 42,
   "id": "625bfd17",
   "metadata": {},
   "outputs": [],
   "source": [
    "POS_counts = doc.count_by(spacy.attrs.POS)\n"
   ]
  },
  {
   "cell_type": "code",
   "execution_count": 43,
   "id": "2458178c",
   "metadata": {},
   "outputs": [
    {
     "data": {
      "text/plain": [
       "{96: 1, 83: 2, 99: 2, 85: 1, 91: 1, 94: 1, 95: 2}"
      ]
     },
     "execution_count": 43,
     "metadata": {},
     "output_type": "execute_result"
    }
   ],
   "source": [
    "POS_counts"
   ]
  },
  {
   "cell_type": "code",
   "execution_count": 52,
   "id": "ad3c2d15",
   "metadata": {},
   "outputs": [
    {
     "data": {
      "text/plain": [
       "'PRON'"
      ]
     },
     "execution_count": 52,
     "metadata": {},
     "output_type": "execute_result"
    }
   ],
   "source": [
    "doc.vocab[94].text"
   ]
  },
  {
   "cell_type": "code",
   "execution_count": 55,
   "id": "a7bf5468",
   "metadata": {},
   "outputs": [
    {
     "data": {
      "text/plain": [
       "99"
      ]
     },
     "execution_count": 55,
     "metadata": {},
     "output_type": "execute_result"
    }
   ],
   "source": [
    "doc[2].pos"
   ]
  },
  {
   "cell_type": "code",
   "execution_count": 60,
   "id": "8e59df25",
   "metadata": {},
   "outputs": [
    {
     "name": "stdout",
     "output_type": "stream",
     "text": [
      "164681854541413346. RB    1\n",
      "4062917326063685704. PRP$  1\n",
      "9188597074677201817. VBP   1\n",
      "10554686591937588953. JJ    1\n",
      "12646065887601541794. .     1\n",
      "13656873538139661788. PRP   1\n",
      "13927759927860985106. VBZ   1\n",
      "15308085513773655218. NN    1\n",
      "15794550382381185553. NNP   2\n",
      "83. ADJ   2\n",
      "85. ADV   1\n",
      "91. NOUN  1\n",
      "94. PRON  1\n",
      "95. PROPN 2\n",
      "96. PUNCT 1\n",
      "99. VERB  2\n"
     ]
    }
   ],
   "source": [
    "TAG_counts =doc.count_by(spacy.attrs.TAG)\n",
    "\n",
    "for k,v in sorted (TAG_counts.items()):\n",
    "    print(f\"{k}. {doc.vocab[k].text:{5}} {v}\")\n",
    "    \n",
    "for k,v in sorted (POS_counts.items()):\n",
    "    print(f\"{k}. {doc.vocab[k].text:{5}} {v}\")"
   ]
  },
  {
   "cell_type": "code",
   "execution_count": 61,
   "id": "c2ba12df",
   "metadata": {},
   "outputs": [
    {
     "data": {
      "text/plain": [
       "57866"
      ]
     },
     "execution_count": 61,
     "metadata": {},
     "output_type": "execute_result"
    }
   ],
   "source": [
    "len(doc.vocab)"
   ]
  },
  {
   "cell_type": "code",
   "execution_count": 62,
   "id": "c0f7bdbd",
   "metadata": {},
   "outputs": [
    {
     "name": "stdout",
     "output_type": "stream",
     "text": [
      "395. acomp 1\n",
      "397. advmod 1\n",
      "401. attr  1\n",
      "426. nsubj 2\n",
      "437. poss  1\n",
      "442. punct 1\n",
      "7037928807040764755. compound 1\n",
      "8206900633647566924. ROOT  2\n"
     ]
    }
   ],
   "source": [
    "DEP_counts =doc.count_by(spacy.attrs.DEP)\n",
    "\n",
    "for k,v in sorted (DEP_counts.items()):\n",
    "    print(f\"{k}. {doc.vocab[k].text:{5}} {v}\")"
   ]
  },
  {
   "cell_type": "code",
   "execution_count": null,
   "id": "77ae54a4",
   "metadata": {},
   "outputs": [],
   "source": []
  }
 ],
 "metadata": {
  "kernelspec": {
   "display_name": "Python 3 (ipykernel)",
   "language": "python",
   "name": "python3"
  },
  "language_info": {
   "codemirror_mode": {
    "name": "ipython",
    "version": 3
   },
   "file_extension": ".py",
   "mimetype": "text/x-python",
   "name": "python",
   "nbconvert_exporter": "python",
   "pygments_lexer": "ipython3",
   "version": "3.7.13"
  }
 },
 "nbformat": 4,
 "nbformat_minor": 5
}
