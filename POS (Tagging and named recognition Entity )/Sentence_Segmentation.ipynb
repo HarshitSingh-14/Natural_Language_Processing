{
 "cells": [
  {
   "cell_type": "code",
   "execution_count": 102,
   "id": "3b25d8c9",
   "metadata": {},
   "outputs": [],
   "source": [
    "# Sentence segmentatoin rule and how to make "
   ]
  },
  {
   "cell_type": "code",
   "execution_count": 103,
   "id": "b7960478",
   "metadata": {},
   "outputs": [],
   "source": [
    "# Perform Standard imports\n",
    "import spacy \n",
    "nlp = spacy.load('en_core_web_sm')"
   ]
  },
  {
   "cell_type": "code",
   "execution_count": 104,
   "id": "2024700c",
   "metadata": {},
   "outputs": [],
   "source": [
    "doc= nlp(u'This is the first sentence. This is another sentence. This is last sentence')"
   ]
  },
  {
   "cell_type": "code",
   "execution_count": 105,
   "id": "7d300567",
   "metadata": {},
   "outputs": [
    {
     "name": "stdout",
     "output_type": "stream",
     "text": [
      "This is the first sentence.\n",
      "This is another sentence.\n",
      "This is last sentence\n"
     ]
    }
   ],
   "source": [
    "for sent in doc.sents:\n",
    "    print(sent)"
   ]
  },
  {
   "cell_type": "code",
   "execution_count": 106,
   "id": "b71887e4",
   "metadata": {},
   "outputs": [
    {
     "ename": "TypeError",
     "evalue": "'generator' object is not subscriptable",
     "output_type": "error",
     "traceback": [
      "\u001b[0;31m---------------------------------------------------------------------------\u001b[0m",
      "\u001b[0;31mTypeError\u001b[0m                                 Traceback (most recent call last)",
      "\u001b[0;32m/var/folders/q6/qq72m1_54ll6wb3r48wv1zzm0000gn/T/ipykernel_43773/2556091318.py\u001b[0m in \u001b[0;36m<module>\u001b[0;34m\u001b[0m\n\u001b[0;32m----> 1\u001b[0;31m \u001b[0mdoc\u001b[0m\u001b[0;34m.\u001b[0m\u001b[0msents\u001b[0m\u001b[0;34m[\u001b[0m\u001b[0;36m0\u001b[0m\u001b[0;34m]\u001b[0m \u001b[0;31m# not possible so create list to convert to lists\u001b[0m\u001b[0;34m\u001b[0m\u001b[0;34m\u001b[0m\u001b[0m\n\u001b[0m",
      "\u001b[0;31mTypeError\u001b[0m: 'generator' object is not subscriptable"
     ]
    }
   ],
   "source": [
    "doc.sents[0] # not possible so create list to convert to lists"
   ]
  },
  {
   "cell_type": "code",
   "execution_count": 107,
   "id": "4769b610",
   "metadata": {},
   "outputs": [
    {
     "data": {
      "text/plain": [
       "This is the first sentence."
      ]
     },
     "execution_count": 107,
     "metadata": {},
     "output_type": "execute_result"
    }
   ],
   "source": [
    "list(doc.sents)[0]"
   ]
  },
  {
   "cell_type": "code",
   "execution_count": 108,
   "id": "2aa56c88",
   "metadata": {
    "scrolled": true
   },
   "outputs": [
    {
     "data": {
      "text/plain": [
       "spacy.tokens.span.Span"
      ]
     },
     "execution_count": 108,
     "metadata": {},
     "output_type": "execute_result"
    }
   ],
   "source": [
    "type(list(doc.sents)[1])"
   ]
  },
  {
   "cell_type": "markdown",
   "id": "b809349f",
   "metadata": {},
   "source": [
    "#### Create a new sentence end of your own"
   ]
  },
  {
   "cell_type": "code",
   "execution_count": 109,
   "id": "bfb22f86",
   "metadata": {},
   "outputs": [],
   "source": [
    "doc=nlp(u'\"Management is doing the right things ; leadership is doing the right things.\"    - Peter pkerar ')"
   ]
  },
  {
   "cell_type": "code",
   "execution_count": 110,
   "id": "42c7c115",
   "metadata": {},
   "outputs": [
    {
     "data": {
      "text/plain": [
       "'\"Management is doing the right things ; leadership is doing the right things.\"    - Peter pkerar '"
      ]
     },
     "execution_count": 110,
     "metadata": {},
     "output_type": "execute_result"
    }
   ],
   "source": [
    "doc.text"
   ]
  },
  {
   "cell_type": "code",
   "execution_count": 111,
   "id": "7ea635c9",
   "metadata": {},
   "outputs": [
    {
     "name": "stdout",
     "output_type": "stream",
     "text": [
      "\"Management is doing the right things ; leadership is doing the right things.\"    \n",
      "\n",
      "\n",
      "- Peter pkerar\n",
      "\n",
      "\n"
     ]
    }
   ],
   "source": [
    "for sent in doc.sents:\n",
    "    print(sent)\n",
    "    print('\\n')"
   ]
  },
  {
   "cell_type": "markdown",
   "id": "1db5400a",
   "metadata": {},
   "source": [
    "#### Add a segmentation rule\n"
   ]
  },
  {
   "cell_type": "code",
   "execution_count": 112,
   "id": "daeef2e3",
   "metadata": {},
   "outputs": [],
   "source": [
    "def set_custom_boundaries(doc):\n",
    "    for token in doc[:-1]:\n",
    "        print(token)\n",
    "        print(token.i)"
   ]
  },
  {
   "cell_type": "code",
   "execution_count": 113,
   "id": "c04cf2fb",
   "metadata": {},
   "outputs": [
    {
     "name": "stdout",
     "output_type": "stream",
     "text": [
      "\"\n",
      "0\n",
      "Management\n",
      "1\n",
      "is\n",
      "2\n",
      "doing\n",
      "3\n",
      "the\n",
      "4\n",
      "right\n",
      "5\n",
      "things\n",
      "6\n",
      ";\n",
      "7\n",
      "leadership\n",
      "8\n",
      "is\n",
      "9\n",
      "doing\n",
      "10\n",
      "the\n",
      "11\n",
      "right\n",
      "12\n",
      "things\n",
      "13\n",
      ".\n",
      "14\n",
      "\"\n",
      "15\n",
      "   \n",
      "16\n",
      "-\n",
      "17\n",
      "Peter\n",
      "18\n"
     ]
    }
   ],
   "source": [
    "set_custom_boundaries(doc)"
   ]
  },
  {
   "cell_type": "code",
   "execution_count": 114,
   "id": "7cf8c10f",
   "metadata": {},
   "outputs": [
    {
     "data": {
      "text/plain": [
       "\"Management is doing the right things ; leadership is doing the right things.\"    - Peter"
      ]
     },
     "execution_count": 114,
     "metadata": {},
     "output_type": "execute_result"
    }
   ],
   "source": [
    "doc[:-1]"
   ]
  },
  {
   "cell_type": "code",
   "execution_count": 115,
   "id": "dfeb9816",
   "metadata": {},
   "outputs": [],
   "source": [
    "def set_custom_boundaries(doc):\n",
    "    for token in doc[:-1]:\n",
    "        if token.text ==';':\n",
    "            doc[token, i+1].is_sent_start = True\n",
    "    return doc"
   ]
  },
  {
   "cell_type": "code",
   "execution_count": 116,
   "id": "40707b81",
   "metadata": {},
   "outputs": [
    {
     "data": {
      "text/plain": [
       "['tagger', 'set_custom_boundaries', 'parser', 'ner']"
      ]
     },
     "execution_count": 116,
     "metadata": {},
     "output_type": "execute_result"
    }
   ],
   "source": [
    "nlp.add_pipe(set_custom_boundaries ,before='parser')\n",
    "nlp.pipe_names"
   ]
  },
  {
   "cell_type": "markdown",
   "id": "c05c5204",
   "metadata": {},
   "source": [
    "##### Test"
   ]
  },
  {
   "cell_type": "code",
   "execution_count": 117,
   "id": "db78fdf7",
   "metadata": {},
   "outputs": [
    {
     "name": "stdout",
     "output_type": "stream",
     "text": [
      "\"Management is doing the right things ; leadership is doing the right things.\"    \n",
      "- Peter pkerar\n"
     ]
    }
   ],
   "source": [
    "for sent in doc.sents:\n",
    "    print(sent)"
   ]
  },
  {
   "cell_type": "code",
   "execution_count": null,
   "id": "4935de68",
   "metadata": {},
   "outputs": [],
   "source": []
  },
  {
   "cell_type": "markdown",
   "id": "a3a6a73a",
   "metadata": {},
   "source": [
    "\n",
    "###### --> Change segmentation rule"
   ]
  },
  {
   "cell_type": "code",
   "execution_count": 119,
   "id": "d1c6bd62",
   "metadata": {},
   "outputs": [],
   "source": [
    "# Reload to remove old saves\n",
    "nlp = spacy.load('en_core_web_sm')"
   ]
  },
  {
   "cell_type": "code",
   "execution_count": 124,
   "id": "49727c14",
   "metadata": {},
   "outputs": [],
   "source": [
    "mystring = u\"This is a sentence. This is another. \\n\\nThis is a \\nthird sentence.\""
   ]
  },
  {
   "cell_type": "code",
   "execution_count": 125,
   "id": "3b9c508b",
   "metadata": {},
   "outputs": [
    {
     "name": "stdout",
     "output_type": "stream",
     "text": [
      "This is a sentence. This is another. \n",
      "\n",
      "This is a \n",
      "third sentence.\n"
     ]
    }
   ],
   "source": [
    "print(mystring)"
   ]
  },
  {
   "cell_type": "code",
   "execution_count": 126,
   "id": "96462c7d",
   "metadata": {},
   "outputs": [],
   "source": [
    "doc = nlp(mystring)"
   ]
  },
  {
   "cell_type": "code",
   "execution_count": 128,
   "id": "680fcf97",
   "metadata": {},
   "outputs": [
    {
     "name": "stdout",
     "output_type": "stream",
     "text": [
      "This is a sentence.\n",
      "This is another. \n",
      "\n",
      "\n",
      "This is a \n",
      "third sentence.\n"
     ]
    }
   ],
   "source": [
    "#default\n",
    "for sentence in doc.sents:\n",
    "    print(sentence)"
   ]
  },
  {
   "cell_type": "markdown",
   "id": "261f6ae3",
   "metadata": {},
   "source": [
    "#### Changing rules  -> "
   ]
  },
  {
   "cell_type": "code",
   "execution_count": 129,
   "id": "21b479fa",
   "metadata": {},
   "outputs": [],
   "source": [
    "from spacy.pipeline import SentenceSegmenter\n"
   ]
  },
  {
   "cell_type": "code",
   "execution_count": 132,
   "id": "bedc4b69",
   "metadata": {},
   "outputs": [],
   "source": [
    "def split_on_newlines(doc):\n",
    "    start = 0\n",
    "    seen_newline= False\n",
    "    \n",
    "    for word in doc:\n",
    "        if seen_newline:\n",
    "            yield doc[start:word.i]\n",
    "            start =word.i\n",
    "            seen_newline=False\n",
    "        elif word.text.startswith('\\n'):\n",
    "            seen_newline=True\n",
    "            \n",
    "    yield doc[start:]"
   ]
  },
  {
   "cell_type": "code",
   "execution_count": 133,
   "id": "f3f8f6c7",
   "metadata": {},
   "outputs": [],
   "source": [
    "sbd = SentenceSegmenter(nlp.vocab ,strategy= split_on_newlines)"
   ]
  },
  {
   "cell_type": "code",
   "execution_count": 134,
   "id": "95992d21",
   "metadata": {},
   "outputs": [],
   "source": [
    "nlp.add_pipe(sbd)"
   ]
  },
  {
   "cell_type": "code",
   "execution_count": 135,
   "id": "942188a8",
   "metadata": {},
   "outputs": [],
   "source": [
    "doc =nlp(mystring)"
   ]
  },
  {
   "cell_type": "code",
   "execution_count": 136,
   "id": "bb675ba9",
   "metadata": {},
   "outputs": [
    {
     "name": "stdout",
     "output_type": "stream",
     "text": [
      "This is a sentence. This is another. \n",
      "\n",
      "\n",
      "This is a \n",
      "\n",
      "third sentence.\n"
     ]
    }
   ],
   "source": [
    "for sentence in doc.sents:\n",
    "    print(sentence)"
   ]
  },
  {
   "cell_type": "code",
   "execution_count": null,
   "id": "d82912ee",
   "metadata": {},
   "outputs": [],
   "source": []
  }
 ],
 "metadata": {
  "kernelspec": {
   "display_name": "Python 3 (ipykernel)",
   "language": "python",
   "name": "python3"
  },
  "language_info": {
   "codemirror_mode": {
    "name": "ipython",
    "version": 3
   },
   "file_extension": ".py",
   "mimetype": "text/x-python",
   "name": "python",
   "nbconvert_exporter": "python",
   "pygments_lexer": "ipython3",
   "version": "3.7.13"
  }
 },
 "nbformat": 4,
 "nbformat_minor": 5
}
