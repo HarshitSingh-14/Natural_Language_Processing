{
 "cells": [
  {
   "cell_type": "code",
   "execution_count": 2,
   "id": "69c4707c",
   "metadata": {},
   "outputs": [],
   "source": [
    "import spacy "
   ]
  },
  {
   "cell_type": "code",
   "execution_count": 4,
   "id": "c9107b81",
   "metadata": {},
   "outputs": [],
   "source": [
    "nlp = spacy.load('en_core_web_sm')"
   ]
  },
  {
   "cell_type": "code",
   "execution_count": 15,
   "id": "34b320a7",
   "metadata": {},
   "outputs": [],
   "source": [
    "def show_ents(doc):\n",
    "    if doc.ents:\n",
    "        for ents in doc.ents:\n",
    "            print(ents.text + ' - ' + ents.label_+ ' - ' +str(spacy.explain(ents.label_)))\n",
    "    else:\n",
    "        print(\"No entites found\")"
   ]
  },
  {
   "cell_type": "code",
   "execution_count": 16,
   "id": "29713b1b",
   "metadata": {},
   "outputs": [],
   "source": [
    "doc = nlp (u'Hello there How are u?')\n"
   ]
  },
  {
   "cell_type": "code",
   "execution_count": 17,
   "id": "3e16bb70",
   "metadata": {},
   "outputs": [
    {
     "name": "stdout",
     "output_type": "stream",
     "text": [
      "No entites found\n"
     ]
    }
   ],
   "source": [
    "show_ents(doc)"
   ]
  },
  {
   "cell_type": "code",
   "execution_count": 22,
   "id": "01afcc19",
   "metadata": {},
   "outputs": [],
   "source": [
    "doc = nlp(u'I will do Master in data science from University of Washington from next to next year')"
   ]
  },
  {
   "cell_type": "code",
   "execution_count": 23,
   "id": "5030b5cb",
   "metadata": {},
   "outputs": [
    {
     "name": "stdout",
     "output_type": "stream",
     "text": [
      "University of Washington - ORG - Companies, agencies, institutions, etc.\n",
      "next year - DATE - Absolute or relative dates or periods\n"
     ]
    }
   ],
   "source": [
    "show_ents(doc)"
   ]
  },
  {
   "cell_type": "code",
   "execution_count": 37,
   "id": "be1a441a",
   "metadata": {},
   "outputs": [],
   "source": [
    "doc= nlp(u'Tesla to build a $6 billion factory in US')"
   ]
  },
  {
   "cell_type": "code",
   "execution_count": 38,
   "id": "b43ffafd",
   "metadata": {},
   "outputs": [
    {
     "name": "stdout",
     "output_type": "stream",
     "text": [
      "$6 billion - MONEY - Monetary values, including unit\n",
      "US - GPE - Countries, cities, states\n"
     ]
    }
   ],
   "source": [
    "show_ents(doc)"
   ]
  },
  {
   "cell_type": "markdown",
   "id": "3a31ec66",
   "metadata": {},
   "source": [
    "#### Adding a enttiy "
   ]
  },
  {
   "cell_type": "code",
   "execution_count": 46,
   "id": "5db19cae",
   "metadata": {},
   "outputs": [],
   "source": [
    "from spacy.tokens import Span\n",
    "#capital S\n",
    "ORG = doc.vocab.strings[u\"ORG\"]"
   ]
  },
  {
   "cell_type": "code",
   "execution_count": 47,
   "id": "5005f5d9",
   "metadata": {},
   "outputs": [
    {
     "data": {
      "text/plain": [
       "381"
      ]
     },
     "execution_count": 47,
     "metadata": {},
     "output_type": "execute_result"
    }
   ],
   "source": [
    "ORG"
   ]
  },
  {
   "cell_type": "code",
   "execution_count": 49,
   "id": "6e3206ad",
   "metadata": {},
   "outputs": [],
   "source": [
    "# in doc go from 0th element to 1 and give it label ORG\n",
    "new_ents= Span(doc,0,1,label=ORG)"
   ]
  },
  {
   "cell_type": "code",
   "execution_count": 50,
   "id": "67f3ef0f",
   "metadata": {},
   "outputs": [],
   "source": [
    "doc.ents=list(doc.ents)+[new_ents]"
   ]
  },
  {
   "cell_type": "code",
   "execution_count": 51,
   "id": "b8fcd305",
   "metadata": {},
   "outputs": [
    {
     "name": "stdout",
     "output_type": "stream",
     "text": [
      "Tesla - ORG - Companies, agencies, institutions, etc.\n",
      "$6 billion - MONEY - Monetary values, including unit\n",
      "US - GPE - Countries, cities, states\n"
     ]
    }
   ],
   "source": [
    "show_ents(doc)"
   ]
  },
  {
   "cell_type": "code",
   "execution_count": null,
   "id": "6777f42c",
   "metadata": {},
   "outputs": [],
   "source": []
  },
  {
   "cell_type": "code",
   "execution_count": null,
   "id": "6a012753",
   "metadata": {},
   "outputs": [],
   "source": []
  },
  {
   "cell_type": "code",
   "execution_count": 53,
   "id": "87195ea7",
   "metadata": {},
   "outputs": [],
   "source": [
    "doc = nlp (u\" Our company created a brand new vacuum cleaner.\"\n",
    "u\"This new vacuum-cleaner is the best in show.\")"
   ]
  },
  {
   "cell_type": "code",
   "execution_count": 54,
   "id": "68af8e20",
   "metadata": {},
   "outputs": [
    {
     "name": "stdout",
     "output_type": "stream",
     "text": [
      "No entites found\n"
     ]
    }
   ],
   "source": [
    "show_ents(doc)"
   ]
  },
  {
   "cell_type": "code",
   "execution_count": 55,
   "id": "23c996f9",
   "metadata": {},
   "outputs": [],
   "source": [
    "from spacy.matcher import PhraseMatcher"
   ]
  },
  {
   "cell_type": "code",
   "execution_count": 56,
   "id": "ecbbd6c9",
   "metadata": {},
   "outputs": [],
   "source": [
    "matcher=PhraseMatcher(nlp.vocab)"
   ]
  },
  {
   "cell_type": "code",
   "execution_count": 63,
   "id": "701ee43b",
   "metadata": {},
   "outputs": [],
   "source": [
    "phrase_list=['vacuum cleaner', 'vacuum-cleaner']"
   ]
  },
  {
   "cell_type": "code",
   "execution_count": 64,
   "id": "8449b850",
   "metadata": {},
   "outputs": [],
   "source": [
    "phrase_patterns=[nlp(text) for text in phrase_list]"
   ]
  },
  {
   "cell_type": "code",
   "execution_count": 65,
   "id": "a7fbc3b8",
   "metadata": {},
   "outputs": [],
   "source": [
    "matcher.add('newproduct',None , *phrase_patterns)"
   ]
  },
  {
   "cell_type": "code",
   "execution_count": 66,
   "id": "542fefcd",
   "metadata": {},
   "outputs": [],
   "source": [
    "found_matches= matcher(doc)"
   ]
  },
  {
   "cell_type": "code",
   "execution_count": 67,
   "id": "5e1a8ff1",
   "metadata": {},
   "outputs": [
    {
     "data": {
      "text/plain": [
       "[(2689272359382549672, 7, 9), (2689272359382549672, 12, 15)]"
      ]
     },
     "execution_count": 67,
     "metadata": {},
     "output_type": "execute_result"
    }
   ],
   "source": [
    "found_matches"
   ]
  },
  {
   "cell_type": "markdown",
   "id": "7350488e",
   "metadata": {},
   "source": [
    "#### Create span for each match and creating NAMED ENtity "
   ]
  },
  {
   "cell_type": "code",
   "execution_count": 68,
   "id": "75312ff1",
   "metadata": {},
   "outputs": [],
   "source": [
    "from spacy.tokens import Span"
   ]
  },
  {
   "cell_type": "code",
   "execution_count": 70,
   "id": "cf079a7b",
   "metadata": {},
   "outputs": [],
   "source": [
    "Prod =doc.vocab.strings[u\"PRODUCT\"]"
   ]
  },
  {
   "cell_type": "code",
   "execution_count": 71,
   "id": "eb2c66c6",
   "metadata": {},
   "outputs": [
    {
     "data": {
      "text/plain": [
       "[(2689272359382549672, 7, 9), (2689272359382549672, 12, 15)]"
      ]
     },
     "execution_count": 71,
     "metadata": {},
     "output_type": "execute_result"
    }
   ],
   "source": [
    "found_matches "
   ]
  },
  {
   "cell_type": "code",
   "execution_count": 74,
   "id": "54056dc3",
   "metadata": {},
   "outputs": [],
   "source": [
    "new_entities =[Span(doc, match[1], match[2] , label = Prod) for match in found_matches]"
   ]
  },
  {
   "cell_type": "code",
   "execution_count": 76,
   "id": "4525b3a1",
   "metadata": {},
   "outputs": [],
   "source": [
    "doc.ents =list (doc.ents) + new_entities"
   ]
  },
  {
   "cell_type": "code",
   "execution_count": 77,
   "id": "cc57072f",
   "metadata": {},
   "outputs": [
    {
     "name": "stdout",
     "output_type": "stream",
     "text": [
      "vacuum cleaner - PRODUCT - Objects, vehicles, foods, etc. (not services)\n",
      "vacuum-cleaner - PRODUCT - Objects, vehicles, foods, etc. (not services)\n"
     ]
    }
   ],
   "source": [
    "show_ents(doc)"
   ]
  },
  {
   "cell_type": "markdown",
   "id": "4c2c6653",
   "metadata": {},
   "source": [
    "##### --> manually adding list of entities in doc.ents"
   ]
  },
  {
   "cell_type": "code",
   "execution_count": null,
   "id": "aec63336",
   "metadata": {},
   "outputs": [],
   "source": []
  },
  {
   "cell_type": "code",
   "execution_count": null,
   "id": "8f8acc3e",
   "metadata": {},
   "outputs": [],
   "source": []
  },
  {
   "cell_type": "code",
   "execution_count": 78,
   "id": "ee297c55",
   "metadata": {},
   "outputs": [],
   "source": [
    "doc = nlp(u\"Originally I paid $1100 for my macbook but it marked down by 100 dollars\" )"
   ]
  },
  {
   "cell_type": "code",
   "execution_count": 80,
   "id": "94855a85",
   "metadata": {},
   "outputs": [
    {
     "data": {
      "text/plain": [
       "[1100, 100 dollars]"
      ]
     },
     "execution_count": 80,
     "metadata": {},
     "output_type": "execute_result"
    }
   ],
   "source": [
    "[ent for ent in doc.ents if ent.label_ == \"MONEY\"]"
   ]
  },
  {
   "cell_type": "code",
   "execution_count": null,
   "id": "2bd3e143",
   "metadata": {},
   "outputs": [],
   "source": []
  }
 ],
 "metadata": {
  "kernelspec": {
   "display_name": "Python 3 (ipykernel)",
   "language": "python",
   "name": "python3"
  },
  "language_info": {
   "codemirror_mode": {
    "name": "ipython",
    "version": 3
   },
   "file_extension": ".py",
   "mimetype": "text/x-python",
   "name": "python",
   "nbconvert_exporter": "python",
   "pygments_lexer": "ipython3",
   "version": "3.7.13"
  }
 },
 "nbformat": 4,
 "nbformat_minor": 5
}
