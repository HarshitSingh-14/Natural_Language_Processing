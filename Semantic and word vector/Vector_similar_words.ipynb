{
 "cells": [
  {
   "cell_type": "code",
   "execution_count": null,
   "id": "1c09cbbb",
   "metadata": {},
   "outputs": [],
   "source": [
    "\n"
   ]
  },
  {
   "cell_type": "code",
   "execution_count": 1,
   "id": "45a63198",
   "metadata": {},
   "outputs": [],
   "source": [
    "import en_core_web_lg\n",
    "\n",
    "nlp = en_core_web_lg.load()"
   ]
  },
  {
   "cell_type": "code",
   "execution_count": null,
   "id": "f3631831",
   "metadata": {},
   "outputs": [],
   "source": [
    "nlp(u'lion').vector  # Vector version of the words...."
   ]
  },
  {
   "cell_type": "code",
   "execution_count": null,
   "id": "07f22680",
   "metadata": {},
   "outputs": [],
   "source": []
  },
  {
   "cell_type": "markdown",
   "id": "71c1358c",
   "metadata": {},
   "source": [
    "##### 300 -> for spacy dim"
   ]
  },
  {
   "cell_type": "code",
   "execution_count": null,
   "id": "133143eb",
   "metadata": {},
   "outputs": [],
   "source": [
    "nlp(u'The fox is clever').vector.shape"
   ]
  },
  {
   "cell_type": "code",
   "execution_count": null,
   "id": "2d490676",
   "metadata": {},
   "outputs": [],
   "source": [
    "tokens= nlp(u'lion cat pet')"
   ]
  },
  {
   "cell_type": "code",
   "execution_count": null,
   "id": "2aa87ad1",
   "metadata": {},
   "outputs": [],
   "source": [
    "for token1 in tokens:\n",
    "    for token2 in tokens:\n",
    "        print(token1.text ,token2.text,token1.similarity(token2))"
   ]
  },
  {
   "cell_type": "code",
   "execution_count": null,
   "id": "135661f9",
   "metadata": {},
   "outputs": [],
   "source": [
    "tokens= nlp(u'like love hate')"
   ]
  },
  {
   "cell_type": "code",
   "execution_count": null,
   "id": "be0da6ae",
   "metadata": {},
   "outputs": [],
   "source": [
    "for token1 in tokens:\n",
    "    for token2 in tokens:\n",
    "        print(token1.text ,token2.text,token1.similarity(token2))"
   ]
  },
  {
   "cell_type": "code",
   "execution_count": null,
   "id": "49fe068c",
   "metadata": {},
   "outputs": [],
   "source": [
    "nlp.vocab.vectors.shape"
   ]
  },
  {
   "cell_type": "code",
   "execution_count": null,
   "id": "03d9e740",
   "metadata": {},
   "outputs": [],
   "source": [
    "tokens = nlp (u\"dog cat Marcially\")\n",
    "for token in tokens:\n",
    "    print(token.text, token.has_vector,token.vector_norm,token.is_oov)"
   ]
  },
  {
   "cell_type": "code",
   "execution_count": null,
   "id": "35f20c30",
   "metadata": {},
   "outputs": [],
   "source": []
  },
  {
   "cell_type": "markdown",
   "id": "937d6008",
   "metadata": {},
   "source": [
    "### USing cosine sim for king man women"
   ]
  },
  {
   "cell_type": "code",
   "execution_count": 45,
   "id": "f954230d",
   "metadata": {},
   "outputs": [],
   "source": [
    "from scipy import spatial\n"
   ]
  },
  {
   "cell_type": "code",
   "execution_count": 46,
   "id": "86016d50",
   "metadata": {},
   "outputs": [],
   "source": [
    "cosine_similarity = lambda vec1, vec2: 1-spatial.distance.cosine(vec1,vec2)"
   ]
  },
  {
   "cell_type": "code",
   "execution_count": 47,
   "id": "69617302",
   "metadata": {},
   "outputs": [],
   "source": [
    "queen = nlp. vocab[ 'queen' ].vector\n",
    "woman =nlp. vocab[ 'woman' ].vector\n",
    "man = nlp.vocab ['man' ].vector"
   ]
  },
  {
   "cell_type": "code",
   "execution_count": 48,
   "id": "57e7e086",
   "metadata": {},
   "outputs": [],
   "source": [
    "# king man + woman---> NEW VECTOR similar Queen, princess, highness\n",
    "new_vector = queen-woman+man"
   ]
  },
  {
   "cell_type": "code",
   "execution_count": null,
   "id": "e43b214f",
   "metadata": {},
   "outputs": [],
   "source": []
  },
  {
   "cell_type": "markdown",
   "id": "d305285e",
   "metadata": {},
   "source": [
    "###### For all words in vacab"
   ]
  },
  {
   "cell_type": "code",
   "execution_count": 49,
   "id": "9cf0e6d6",
   "metadata": {},
   "outputs": [],
   "source": [
    "computed_similarity =[]\n",
    "for word in nlp.vocab:\n",
    "    if word.has_vector:\n",
    "        if word.is_lower:\n",
    "            if word.is_alpha:\n",
    "                similarity =cosine_similarity(new_vector,word.vector)\n",
    "                computed_similarity.append((word,similarity))"
   ]
  },
  {
   "cell_type": "markdown",
   "id": "4b0ae9a9",
   "metadata": {},
   "source": [
    "Sorting to get top similar words"
   ]
  },
  {
   "cell_type": "code",
   "execution_count": 50,
   "id": "ecb84c8b",
   "metadata": {},
   "outputs": [
    {
     "data": {
      "text/plain": [
       "[(<spacy.lexeme.Lexeme at 0x7fe2066b9be0>, 0.19865046441555023),\n",
       " (<spacy.lexeme.Lexeme at 0x7fe206754cd0>, 0.2815459966659546),\n",
       " (<spacy.lexeme.Lexeme at 0x7fe206756550>, 0.13364841043949127),\n",
       " (<spacy.lexeme.Lexeme at 0x7fe206754460>, 0.2318536937236786),\n",
       " (<spacy.lexeme.Lexeme at 0x7fe206754e60>, 0.23890681564807892),\n",
       " (<spacy.lexeme.Lexeme at 0x7fe2067541e0>, 0.22986674308776855),\n",
       " (<spacy.lexeme.Lexeme at 0x7fe206764320>, 0.23325926065444946),\n",
       " (<spacy.lexeme.Lexeme at 0x7fe206764410>, 0.22341406345367432),\n",
       " (<spacy.lexeme.Lexeme at 0x7fe206764500>, 0.2003125548362732),\n",
       " (<spacy.lexeme.Lexeme at 0x7fe206764640>, 0.20331409573554993),\n",
       " (<spacy.lexeme.Lexeme at 0x7fe206764780>, 0.26377546787261963),\n",
       " (<spacy.lexeme.Lexeme at 0x7fe206764370>, 0.07092709094285965),\n",
       " (<spacy.lexeme.Lexeme at 0x7fe206764550>, 0.22724533081054688),\n",
       " (<spacy.lexeme.Lexeme at 0x7fe206764870>, -0.03351996839046478),\n",
       " (<spacy.lexeme.Lexeme at 0x7fe206764960>, 0.20008064806461334),\n",
       " (<spacy.lexeme.Lexeme at 0x7fe206764a00>, 0.2135576754808426),\n",
       " (<spacy.lexeme.Lexeme at 0x7fe206764a50>, -0.082316555082798),\n",
       " (<spacy.lexeme.Lexeme at 0x7fe206764820>, 0.24771714210510254),\n",
       " (<spacy.lexeme.Lexeme at 0x7fe2067649b0>, 0.25572076439857483),\n",
       " (<spacy.lexeme.Lexeme at 0x7fe206764be0>, 0.3053574562072754),\n",
       " (<spacy.lexeme.Lexeme at 0x7fe206764af0>, 0.1431841105222702),\n",
       " (<spacy.lexeme.Lexeme at 0x7fe206764cd0>, 0.17471247911453247),\n",
       " (<spacy.lexeme.Lexeme at 0x7fe206764f00>, 0.2592683434486389),\n",
       " (<spacy.lexeme.Lexeme at 0x7fe206764dc0>, 0.26812490820884705),\n",
       " (<spacy.lexeme.Lexeme at 0x7fe206766050>, 0.19499650597572327),\n",
       " (<spacy.lexeme.Lexeme at 0x7fe206766280>, 0.13254240155220032),\n",
       " (<spacy.lexeme.Lexeme at 0x7fe206766140>, 0.18913190066814423),\n",
       " (<spacy.lexeme.Lexeme at 0x7fe2067662d0>, 0.771614134311676),\n",
       " (<spacy.lexeme.Lexeme at 0x7fe206766410>, 0.20038339495658875),\n",
       " (<spacy.lexeme.Lexeme at 0x7fe206766370>, 0.13533209264278412),\n",
       " (<spacy.lexeme.Lexeme at 0x7fe2067665f0>, 0.18647344410419464),\n",
       " (<spacy.lexeme.Lexeme at 0x7fe2067664b0>, 0.2272639274597168),\n",
       " (<spacy.lexeme.Lexeme at 0x7fe206766690>, 0.21797141432762146),\n",
       " (<spacy.lexeme.Lexeme at 0x7fe206766550>, 0.26748862862586975),\n",
       " (<spacy.lexeme.Lexeme at 0x7fe206766820>, 0.15448281168937683),\n",
       " (<spacy.lexeme.Lexeme at 0x7fe206766780>, 0.24504420161247253),\n",
       " (<spacy.lexeme.Lexeme at 0x7fe2067666e0>, 0.2464302033185959),\n",
       " (<spacy.lexeme.Lexeme at 0x7fe206766910>, 0.26588305830955505),\n",
       " (<spacy.lexeme.Lexeme at 0x7fe206766960>, 0.22943438589572906),\n",
       " (<spacy.lexeme.Lexeme at 0x7fe206766b40>, 0.26788952946662903),\n",
       " (<spacy.lexeme.Lexeme at 0x7fe206766870>, 0.14142607152462006),\n",
       " (<spacy.lexeme.Lexeme at 0x7fe206766aa0>, 0.7754250764846802),\n",
       " (<spacy.lexeme.Lexeme at 0x7fe206766c30>, 0.2483614981174469),\n",
       " (<spacy.lexeme.Lexeme at 0x7fe206766d70>, 0.33034539222717285),\n",
       " (<spacy.lexeme.Lexeme at 0x7fe206766e60>, 0.22281140089035034),\n",
       " (<spacy.lexeme.Lexeme at 0x7fe206766cd0>, 0.2864825427532196),\n",
       " (<spacy.lexeme.Lexeme at 0x7fe206766f50>, 0.18923398852348328),\n",
       " (<spacy.lexeme.Lexeme at 0x7fe206766f00>, 0.1839621365070343),\n",
       " (<spacy.lexeme.Lexeme at 0x7fe206638640>, 0.23658359050750732),\n",
       " (<spacy.lexeme.Lexeme at 0x7fe2067234b0>, 0.17494618892669678),\n",
       " (<spacy.lexeme.Lexeme at 0x7fe206768140>, 0.30540966987609863),\n",
       " (<spacy.lexeme.Lexeme at 0x7fe206768050>, 0.2517952024936676),\n",
       " (<spacy.lexeme.Lexeme at 0x7fe206768190>, 0.2601366639137268),\n",
       " (<spacy.lexeme.Lexeme at 0x7fe2067680f0>, 0.3071390986442566),\n",
       " (<spacy.lexeme.Lexeme at 0x7fe206768280>, 0.27109748125076294),\n",
       " (<spacy.lexeme.Lexeme at 0x7fe2067681e0>, 0.34886226058006287),\n",
       " (<spacy.lexeme.Lexeme at 0x7fe206768320>, 0.12479793280363083),\n",
       " (<spacy.lexeme.Lexeme at 0x7fe2067683c0>, 0.07833319902420044),\n",
       " (<spacy.lexeme.Lexeme at 0x7fe2067684b0>, 0.31292253732681274),\n",
       " (<spacy.lexeme.Lexeme at 0x7fe206768690>, 0.20360907912254333),\n",
       " (<spacy.lexeme.Lexeme at 0x7fe206768780>, 0.285917192697525),\n",
       " (<spacy.lexeme.Lexeme at 0x7fe206768550>, 0.20057137310504913),\n",
       " (<spacy.lexeme.Lexeme at 0x7fe206768370>, 0.24207204580307007),\n",
       " (<spacy.lexeme.Lexeme at 0x7fe206768aa0>, 0.06440211832523346),\n",
       " (<spacy.lexeme.Lexeme at 0x7fe2067689b0>, 0.2840220630168915),\n",
       " (<spacy.lexeme.Lexeme at 0x7fe206768b90>, 0.23530349135398865),\n",
       " (<spacy.lexeme.Lexeme at 0x7fe206768c80>, 0.23440104722976685),\n",
       " (<spacy.lexeme.Lexeme at 0x7fe2067688c0>, 0.16428643465042114),\n",
       " (<spacy.lexeme.Lexeme at 0x7fe206768af0>, 0.26433926820755005),\n",
       " (<spacy.lexeme.Lexeme at 0x7fe206768e10>, 0.1953328400850296),\n",
       " (<spacy.lexeme.Lexeme at 0x7fe206768cd0>, 0.18920311331748962),\n",
       " (<spacy.lexeme.Lexeme at 0x7fe206768f50>, 0.29114264249801636),\n",
       " (<spacy.lexeme.Lexeme at 0x7fe206768d70>, 0.05608455464243889),\n",
       " (<spacy.lexeme.Lexeme at 0x7fe206768f00>, 0.27187612652778625),\n",
       " (<spacy.lexeme.Lexeme at 0x7fe20676d280>, 0.2707641124725342),\n",
       " (<spacy.lexeme.Lexeme at 0x7fe20676d2d0>, 0.30867499113082886),\n",
       " (<spacy.lexeme.Lexeme at 0x7fe20676d3c0>, 0.41803106665611267),\n",
       " (<spacy.lexeme.Lexeme at 0x7fe20676d140>, 0.038646597415208817),\n",
       " (<spacy.lexeme.Lexeme at 0x7fe20676d550>, 0.15711887180805206),\n",
       " (<spacy.lexeme.Lexeme at 0x7fe20676d460>, 0.3072059452533722),\n",
       " (<spacy.lexeme.Lexeme at 0x7fe20676d5f0>, 0.27119195461273193),\n",
       " (<spacy.lexeme.Lexeme at 0x7fe20676d690>, 0.2768412232398987),\n",
       " (<spacy.lexeme.Lexeme at 0x7fe20676d730>, 0.3205859661102295),\n",
       " (<spacy.lexeme.Lexeme at 0x7fe20676d500>, 0.23721639811992645),\n",
       " (<spacy.lexeme.Lexeme at 0x7fe20676daa0>, 0.2222963124513626),\n",
       " (<spacy.lexeme.Lexeme at 0x7fe20676d910>, 0.19031286239624023),\n",
       " (<spacy.lexeme.Lexeme at 0x7fe20676d820>, 0.1271091252565384),\n",
       " (<spacy.lexeme.Lexeme at 0x7fe20676d780>, 0.21435339748859406),\n",
       " (<spacy.lexeme.Lexeme at 0x7fe20676dc30>, 0.11557365208864212),\n",
       " (<spacy.lexeme.Lexeme at 0x7fe20676de60>, 0.10503322631120682),\n",
       " (<spacy.lexeme.Lexeme at 0x7fe20676df00>, 0.24806372821331024),\n",
       " (<spacy.lexeme.Lexeme at 0x7fe20676db90>, 0.18084214627742767),\n",
       " (<spacy.lexeme.Lexeme at 0x7fe20676dd20>, 0.24125483632087708),\n",
       " (<spacy.lexeme.Lexeme at 0x7fe20676dfa0>, 0.2586171329021454),\n",
       " (<spacy.lexeme.Lexeme at 0x7fe20676dc80>, 0.19934044778347015),\n",
       " (<spacy.lexeme.Lexeme at 0x7fe2067620f0>, 0.1281156837940216),\n",
       " (<spacy.lexeme.Lexeme at 0x7fe206762230>, 0.13822585344314575),\n",
       " (<spacy.lexeme.Lexeme at 0x7fe206762050>, 0.2762536406517029),\n",
       " (<spacy.lexeme.Lexeme at 0x7fe2067624b0>, 0.21812443435192108),\n",
       " (<spacy.lexeme.Lexeme at 0x7fe206762190>, 0.1710750013589859),\n",
       " (<spacy.lexeme.Lexeme at 0x7fe2067625a0>, 0.28628212213516235),\n",
       " (<spacy.lexeme.Lexeme at 0x7fe206762320>, 0.2001631110906601),\n",
       " (<spacy.lexeme.Lexeme at 0x7fe2067623c0>, -0.017760025337338448),\n",
       " (<spacy.lexeme.Lexeme at 0x7fe206762780>, 0.2849537134170532),\n",
       " (<spacy.lexeme.Lexeme at 0x7fe2067625f0>, 0.2121056467294693),\n",
       " (<spacy.lexeme.Lexeme at 0x7fe2067626e0>, 0.22792108356952667),\n",
       " (<spacy.lexeme.Lexeme at 0x7fe2067628c0>, 0.16393306851387024),\n",
       " (<spacy.lexeme.Lexeme at 0x7fe206762820>, 0.19976036250591278),\n",
       " (<spacy.lexeme.Lexeme at 0x7fe206762be0>, 0.2875053286552429),\n",
       " (<spacy.lexeme.Lexeme at 0x7fe206762cd0>, 0.3161923289299011),\n",
       " (<spacy.lexeme.Lexeme at 0x7fe2067629b0>, 0.17036016285419464)]"
      ]
     },
     "execution_count": 50,
     "metadata": {},
     "output_type": "execute_result"
    }
   ],
   "source": [
    "computed_similarity"
   ]
  },
  {
   "cell_type": "code",
   "execution_count": 51,
   "id": "824c62a1",
   "metadata": {},
   "outputs": [],
   "source": [
    "computed_similarity= sorted(computed_similarity, key=lambda item:-item[1]) ## sorting b"
   ]
  },
  {
   "cell_type": "code",
   "execution_count": 52,
   "id": "cafdd0f2",
   "metadata": {},
   "outputs": [
    {
     "name": "stdout",
     "output_type": "stream",
     "text": [
      "['queen', 'king', 'man', 'he', 'cuz', 'love', 'let', 'u', 'nothin', 'lovin', 'nuff', 'dare', 'doin', 'all', 'goin', 'space', 'i', 'there', 'ai', 'got', 'it', 'did', 'that', 'what', 'not', 'they', 'coz', 'would', 'could', 'was', 'why', 'when', 'might', 'this', 'cos', 'n', 'co', 'll', 'ca', 'ol', 'r', 'who', 'nt', 'gon', 'we', 'where', 'has', 'ta', 'j', 'bout', 'had', 'is', 'must', 'how', 'should', 'cause', 'ought', 'does', 'those', 'have', 'o', 'you', 's', 'somethin', 'wo', 'q', 'b', 'havin', 'need', 'do', 'z', 'these', 'and', 'em', 'nuthin', 'she', 'k', 'sha', 'were', 'may', 'f', 'm', 't', 'can', 'a', 'w', 'na', 've', 'or', 'are', 're', 'y', 'g', 'h', 'x', 'c', 'e', 'd', 'on', 'vs', 'l', 'p', 'am', 'woman', 'pm', 'v', 'negative', 'positive', 'ö', 'ä', 'ü']\n"
     ]
    }
   ],
   "source": [
    "print ([t[0].text for t in computed_similarity[:10000]])"
   ]
  },
  {
   "cell_type": "code",
   "execution_count": null,
   "id": "951f18d9",
   "metadata": {},
   "outputs": [],
   "source": []
  },
  {
   "cell_type": "code",
   "execution_count": null,
   "id": "be0d4ea6",
   "metadata": {},
   "outputs": [],
   "source": []
  },
  {
   "cell_type": "code",
   "execution_count": null,
   "id": "088bd089",
   "metadata": {},
   "outputs": [],
   "source": []
  },
  {
   "cell_type": "code",
   "execution_count": null,
   "id": "017aeb9a",
   "metadata": {},
   "outputs": [],
   "source": []
  }
 ],
 "metadata": {
  "kernelspec": {
   "display_name": "Python 3 (ipykernel)",
   "language": "python",
   "name": "python3"
  },
  "language_info": {
   "codemirror_mode": {
    "name": "ipython",
    "version": 3
   },
   "file_extension": ".py",
   "mimetype": "text/x-python",
   "name": "python",
   "nbconvert_exporter": "python",
   "pygments_lexer": "ipython3",
   "version": "3.7.13"
  }
 },
 "nbformat": 4,
 "nbformat_minor": 5
}
