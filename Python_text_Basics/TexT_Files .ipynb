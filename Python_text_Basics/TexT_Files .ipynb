{
 "cells": [
  {
   "cell_type": "markdown",
   "id": "be97fc3c",
   "metadata": {},
   "source": [
    "### Text Input and spacing "
   ]
  },
  {
   "cell_type": "code",
   "execution_count": 1,
   "id": "b90852ad",
   "metadata": {},
   "outputs": [],
   "source": [
    "person = \"harshit\""
   ]
  },
  {
   "cell_type": "code",
   "execution_count": 2,
   "id": "8078f058",
   "metadata": {},
   "outputs": [
    {
     "name": "stdout",
     "output_type": "stream",
     "text": [
      "My name is harshit\n"
     ]
    }
   ],
   "source": [
    "print(\"My name is {}\".format(person))"
   ]
  },
  {
   "cell_type": "code",
   "execution_count": 3,
   "id": "8aa90215",
   "metadata": {},
   "outputs": [
    {
     "name": "stdout",
     "output_type": "stream",
     "text": [
      "My name is harshit\n"
     ]
    }
   ],
   "source": [
    "print(f\"My name is {person}\")"
   ]
  },
  {
   "cell_type": "code",
   "execution_count": 4,
   "id": "b1cfa726",
   "metadata": {},
   "outputs": [],
   "source": [
    "library= [('Name', 'Topics','Roll-Number'),('Mr-A' , 'Ml', '1'),('Mr-B', 'AI', '2')]"
   ]
  },
  {
   "cell_type": "code",
   "execution_count": 5,
   "id": "0262c33b",
   "metadata": {},
   "outputs": [
    {
     "data": {
      "text/plain": [
       "[('Name', 'Topics', 'Roll-Number'), ('Mr-A', 'Ml', '1'), ('Mr-B', 'AI', '2')]"
      ]
     },
     "execution_count": 5,
     "metadata": {},
     "output_type": "execute_result"
    }
   ],
   "source": [
    "library"
   ]
  },
  {
   "cell_type": "code",
   "execution_count": 6,
   "id": "e07a2b28",
   "metadata": {},
   "outputs": [
    {
     "name": "stdout",
     "output_type": "stream",
     "text": [
      "('Name', 'Topics', 'Roll-Number')\n",
      "('Mr-A', 'Ml', '1')\n",
      "('Mr-B', 'AI', '2')\n"
     ]
    }
   ],
   "source": [
    "for per in library:\n",
    "    print(per)"
   ]
  },
  {
   "cell_type": "code",
   "execution_count": 7,
   "id": "49306b7b",
   "metadata": {
    "scrolled": true
   },
   "outputs": [
    {
     "name": "stdout",
     "output_type": "stream",
     "text": [
      "Name       ....Topics  Roll-Number\n",
      "Mr-A       ........Ml  ---------1\n",
      "Mr-B       ........AI  ---------2\n"
     ]
    }
   ],
   "source": [
    "for name , topic , roll in library: \n",
    "    print(f\"{name:{10}} {topic:.>{10}}  {roll:->{10}}\")   # :{10} -> for spacing of 10 lines"
   ]
  },
  {
   "cell_type": "markdown",
   "id": "5ff53d5a",
   "metadata": {},
   "source": [
    "### DAte Time "
   ]
  },
  {
   "cell_type": "code",
   "execution_count": 8,
   "id": "12967503",
   "metadata": {},
   "outputs": [],
   "source": [
    "from datetime import datetime"
   ]
  },
  {
   "cell_type": "code",
   "execution_count": 9,
   "id": "c9150222",
   "metadata": {},
   "outputs": [],
   "source": [
    "today= datetime(year = 2019 , month = 2, day=14)"
   ]
  },
  {
   "cell_type": "code",
   "execution_count": 10,
   "id": "e516b8d8",
   "metadata": {},
   "outputs": [
    {
     "name": "stdout",
     "output_type": "stream",
     "text": [
      " February 14\n"
     ]
    }
   ],
   "source": [
    "print(f\"{today: %B %d}\")"
   ]
  },
  {
   "cell_type": "code",
   "execution_count": 11,
   "id": "0d5d3016",
   "metadata": {},
   "outputs": [
    {
     "data": {
      "text/plain": [
       "datetime.datetime(2019, 2, 14, 0, 0)"
      ]
     },
     "execution_count": 11,
     "metadata": {},
     "output_type": "execute_result"
    }
   ],
   "source": [
    "today"
   ]
  },
  {
   "cell_type": "markdown",
   "id": "8fb7af8f",
   "metadata": {},
   "source": [
    "## Write and File-Handling"
   ]
  },
  {
   "cell_type": "code",
   "execution_count": 12,
   "id": "6ce73b8b",
   "metadata": {},
   "outputs": [
    {
     "name": "stdout",
     "output_type": "stream",
     "text": [
      "Overwriting test.txt\n"
     ]
    }
   ],
   "source": [
    "%%writefile test.txt\n",
    "Hello gizee, this is a test file\n",
    "huehue"
   ]
  },
  {
   "cell_type": "code",
   "execution_count": 13,
   "id": "09526afa",
   "metadata": {},
   "outputs": [],
   "source": [
    "my_file= open('test.txt')"
   ]
  },
  {
   "cell_type": "code",
   "execution_count": 14,
   "id": "fdb4f24b",
   "metadata": {},
   "outputs": [
    {
     "data": {
      "text/plain": [
       "<_io.TextIOWrapper name='test.txt' mode='r' encoding='UTF-8'>"
      ]
     },
     "execution_count": 14,
     "metadata": {},
     "output_type": "execute_result"
    }
   ],
   "source": [
    "my_file"
   ]
  },
  {
   "cell_type": "code",
   "execution_count": 15,
   "id": "ad82caff",
   "metadata": {},
   "outputs": [
    {
     "data": {
      "text/plain": [
       "'Hello gizee, this is a test file\\nhuehue\\n'"
      ]
     },
     "execution_count": 15,
     "metadata": {},
     "output_type": "execute_result"
    }
   ],
   "source": [
    "my_file.read()"
   ]
  },
  {
   "cell_type": "code",
   "execution_count": 16,
   "id": "1c09887a",
   "metadata": {},
   "outputs": [
    {
     "data": {
      "text/plain": [
       "3"
      ]
     },
     "execution_count": 16,
     "metadata": {},
     "output_type": "execute_result"
    }
   ],
   "source": [
    "my_file.seek(3)    # pointer___"
   ]
  },
  {
   "cell_type": "code",
   "execution_count": 17,
   "id": "22694fbc",
   "metadata": {},
   "outputs": [
    {
     "data": {
      "text/plain": [
       "'lo gizee, this is a test file\\nhuehue\\n'"
      ]
     },
     "execution_count": 17,
     "metadata": {},
     "output_type": "execute_result"
    }
   ],
   "source": [
    "my_file.read()"
   ]
  },
  {
   "cell_type": "code",
   "execution_count": 18,
   "id": "6110e2af",
   "metadata": {},
   "outputs": [],
   "source": [
    "file = open('test.txt')"
   ]
  },
  {
   "cell_type": "code",
   "execution_count": 36,
   "id": "3b83cb08",
   "metadata": {},
   "outputs": [],
   "source": [
    "for line in file.readline():   \n",
    "    print(line[0])\n"
   ]
  },
  {
   "cell_type": "code",
   "execution_count": 20,
   "id": "294da9d6",
   "metadata": {},
   "outputs": [],
   "source": [
    "for line in file.readlines():   \n",
    "    print(line.split()[0])\n"
   ]
  },
  {
   "cell_type": "code",
   "execution_count": 21,
   "id": "73c5b21a",
   "metadata": {},
   "outputs": [],
   "source": [
    "my_file= open('test.txt', 'w+')"
   ]
  },
  {
   "cell_type": "code",
   "execution_count": 22,
   "id": "671a41fc",
   "metadata": {},
   "outputs": [
    {
     "data": {
      "text/plain": [
       "''"
      ]
     },
     "execution_count": 22,
     "metadata": {},
     "output_type": "execute_result"
    }
   ],
   "source": [
    "my_file.read()"
   ]
  },
  {
   "cell_type": "code",
   "execution_count": 23,
   "id": "5744a6ff",
   "metadata": {},
   "outputs": [
    {
     "data": {
      "text/plain": [
       "34"
      ]
     },
     "execution_count": 23,
     "metadata": {},
     "output_type": "execute_result"
    }
   ],
   "source": [
    "my_file.write('Myself steping up for the RESEARCH')   # writes each time it runs"
   ]
  },
  {
   "cell_type": "code",
   "execution_count": 24,
   "id": "195f1c0c",
   "metadata": {},
   "outputs": [
    {
     "data": {
      "text/plain": [
       "0"
      ]
     },
     "execution_count": 24,
     "metadata": {},
     "output_type": "execute_result"
    }
   ],
   "source": [
    "my_file.seek(0)"
   ]
  },
  {
   "cell_type": "code",
   "execution_count": 25,
   "id": "63b5d76c",
   "metadata": {},
   "outputs": [
    {
     "data": {
      "text/plain": [
       "'Myself steping up for the RESEARCH'"
      ]
     },
     "execution_count": 25,
     "metadata": {},
     "output_type": "execute_result"
    }
   ],
   "source": [
    "my_file.read()"
   ]
  },
  {
   "cell_type": "code",
   "execution_count": 26,
   "id": "d6f6c605",
   "metadata": {},
   "outputs": [],
   "source": [
    "my_file.close()\n",
    "my_file.close()"
   ]
  },
  {
   "cell_type": "code",
   "execution_count": 27,
   "id": "c549227c",
   "metadata": {},
   "outputs": [],
   "source": [
    "my_file= open('huehue.txt',mode ='a+')   # APpend creates file if not present"
   ]
  },
  {
   "cell_type": "code",
   "execution_count": 28,
   "id": "07d8acda",
   "metadata": {},
   "outputs": [
    {
     "data": {
      "text/plain": [
       "15"
      ]
     },
     "execution_count": 28,
     "metadata": {},
     "output_type": "execute_result"
    }
   ],
   "source": [
    "my_file.write(\"Trying to write\")"
   ]
  },
  {
   "cell_type": "code",
   "execution_count": 29,
   "id": "1f8dccce",
   "metadata": {},
   "outputs": [
    {
     "data": {
      "text/plain": [
       "''"
      ]
     },
     "execution_count": 29,
     "metadata": {},
     "output_type": "execute_result"
    }
   ],
   "source": [
    "my_file.read()"
   ]
  },
  {
   "cell_type": "code",
   "execution_count": 30,
   "id": "5d49dd48",
   "metadata": {},
   "outputs": [],
   "source": [
    "my_file.close()"
   ]
  },
  {
   "cell_type": "code",
   "execution_count": 31,
   "id": "1132d23c",
   "metadata": {},
   "outputs": [],
   "source": [
    "my_file= open('huehue.txt')"
   ]
  },
  {
   "cell_type": "code",
   "execution_count": 32,
   "id": "31e57034",
   "metadata": {},
   "outputs": [
    {
     "ename": "UnsupportedOperation",
     "evalue": "not writable",
     "output_type": "error",
     "traceback": [
      "\u001b[0;31m---------------------------------------------------------------------------\u001b[0m",
      "\u001b[0;31mUnsupportedOperation\u001b[0m                      Traceback (most recent call last)",
      "\u001b[0;32m/var/folders/q6/qq72m1_54ll6wb3r48wv1zzm0000gn/T/ipykernel_86271/2377010707.py\u001b[0m in \u001b[0;36m<module>\u001b[0;34m\u001b[0m\n\u001b[0;32m----> 1\u001b[0;31m \u001b[0mmy_file\u001b[0m\u001b[0;34m.\u001b[0m\u001b[0mwrite\u001b[0m\u001b[0;34m(\u001b[0m\u001b[0;34m\"sdf\"\u001b[0m\u001b[0;34m)\u001b[0m\u001b[0;34m\u001b[0m\u001b[0;34m\u001b[0m\u001b[0m\n\u001b[0m",
      "\u001b[0;31mUnsupportedOperation\u001b[0m: not writable"
     ]
    }
   ],
   "source": [
    "my_file.write(\"sdf\")"
   ]
  },
  {
   "cell_type": "code",
   "execution_count": null,
   "id": "07637411",
   "metadata": {},
   "outputs": [],
   "source": [
    "my_file.seek(0)\n",
    "my_file.read()"
   ]
  },
  {
   "cell_type": "markdown",
   "id": "3fcaf012",
   "metadata": {},
   "source": [
    "#### COntext manager for AUTO CLOSING"
   ]
  },
  {
   "cell_type": "code",
   "execution_count": null,
   "id": "849eb8ed",
   "metadata": {},
   "outputs": [],
   "source": [
    "with open('huehue.txt','r') as mynewfile:\n",
    "    my_variable = mynewfile.readlines()\n"
   ]
  },
  {
   "cell_type": "code",
   "execution_count": null,
   "id": "1fd6f540",
   "metadata": {},
   "outputs": [],
   "source": [
    "my_variable"
   ]
  },
  {
   "cell_type": "markdown",
   "id": "9edb9ca8",
   "metadata": {},
   "source": [
    "## Working of the PDF"
   ]
  },
  {
   "cell_type": "code",
   "execution_count": 38,
   "id": "2d388c16",
   "metadata": {},
   "outputs": [],
   "source": [
    "import PyPDF2"
   ]
  },
  {
   "cell_type": "code",
   "execution_count": 39,
   "id": "f23ca8e3",
   "metadata": {},
   "outputs": [],
   "source": [
    "myfile= open('Tell me about yourself.pdf',mode='rb') # Read binary...."
   ]
  },
  {
   "cell_type": "code",
   "execution_count": 40,
   "id": "61f19751",
   "metadata": {},
   "outputs": [],
   "source": [
    "pdf_reader = PyPDF2.PdfFileReader(myfile)"
   ]
  },
  {
   "cell_type": "code",
   "execution_count": 41,
   "id": "1130b423",
   "metadata": {},
   "outputs": [
    {
     "data": {
      "text/plain": [
       "8"
      ]
     },
     "execution_count": 41,
     "metadata": {},
     "output_type": "execute_result"
    }
   ],
   "source": [
    "pdf_reader.numPages"
   ]
  },
  {
   "cell_type": "markdown",
   "id": "5edf21f8",
   "metadata": {},
   "source": [
    "####  Get Text "
   ]
  },
  {
   "cell_type": "code",
   "execution_count": 42,
   "id": "778d747e",
   "metadata": {},
   "outputs": [],
   "source": [
    "page_one = pdf_reader.getPage(0)"
   ]
  },
  {
   "cell_type": "code",
   "execution_count": 43,
   "id": "71f9fef7",
   "metadata": {},
   "outputs": [
    {
     "data": {
      "text/plain": [
       "'Ł \\n \\nLear ners may download copyr ighted mater ial for their use for the \\npur pose of the online program only.\\nŁ \\n \\nExcept as otherwise expressly per mitted under copyright law, no use \\nother than for the pur pose of the online program is permitted.\\nŁ \\n \\nNo copying, redistribution, retransmission, publication or exploitation, \\ncommercial or otherwise of material will be per mitted without the \\nexpress per mission of IIT Madras.\\nŁ \\n \\nLear ner acknowledges that he/she does not acquire any ownership \\nr ights by downloading copyr ighted mater ial.\\nŁ \\n \\nLear ners may not modify, publish, transmit, par ticipate in the transfer or \\nsale, create der ivative wor ks, or in any way exploit, any of the content,\\n \\nin whole or in part. \\nCopyright and ter ms of use\\nIIT Madras is the sole owner of the content available in this por tal -\\nonlinedegree.iitm.ac.in\\n and the content is copyr ighted to IIT Madras.\\nBS\\nc\\n \\nDegree\\n'"
      ]
     },
     "execution_count": 43,
     "metadata": {},
     "output_type": "execute_result"
    }
   ],
   "source": [
    "page_one.extractText()    "
   ]
  },
  {
   "cell_type": "code",
   "execution_count": 44,
   "id": "cc23baf3",
   "metadata": {},
   "outputs": [],
   "source": [
    "myfile.close()"
   ]
  },
  {
   "cell_type": "code",
   "execution_count": null,
   "id": "6518a9dc",
   "metadata": {},
   "outputs": [],
   "source": []
  },
  {
   "cell_type": "code",
   "execution_count": null,
   "id": "8999d63b",
   "metadata": {},
   "outputs": [],
   "source": []
  },
  {
   "cell_type": "code",
   "execution_count": 8,
   "id": "45651fec",
   "metadata": {},
   "outputs": [],
   "source": [
    "f=open('Tell me about yourself.pdf', 'rb')"
   ]
  },
  {
   "cell_type": "code",
   "execution_count": 46,
   "id": "d3a42b8b",
   "metadata": {},
   "outputs": [],
   "source": [
    "pdf_reader= PyPDF2.PdfFileReader(f)"
   ]
  },
  {
   "cell_type": "code",
   "execution_count": 47,
   "id": "2d859455",
   "metadata": {},
   "outputs": [],
   "source": [
    "first_page = pdf_reader.getPage(0)"
   ]
  },
  {
   "cell_type": "code",
   "execution_count": 48,
   "id": "4909b9cc",
   "metadata": {},
   "outputs": [],
   "source": [
    "pdf_writer= PyPDF2.PdfFileWriter()"
   ]
  },
  {
   "cell_type": "code",
   "execution_count": 50,
   "id": "9d9e55d7",
   "metadata": {},
   "outputs": [],
   "source": [
    "pdf_writer.addPage(first_page)"
   ]
  },
  {
   "cell_type": "code",
   "execution_count": null,
   "id": "bb909387",
   "metadata": {},
   "outputs": [],
   "source": []
  },
  {
   "cell_type": "code",
   "execution_count": null,
   "id": "e63ed802",
   "metadata": {},
   "outputs": [],
   "source": []
  },
  {
   "cell_type": "code",
   "execution_count": 4,
   "id": "3ef0e896",
   "metadata": {},
   "outputs": [],
   "source": [
    "pdf_output=open('My_new_pdf.pdf','wb')"
   ]
  },
  {
   "cell_type": "code",
   "execution_count": 9,
   "id": "96021be2",
   "metadata": {},
   "outputs": [
    {
     "ename": "NameError",
     "evalue": "name 'pdf_writer' is not defined",
     "output_type": "error",
     "traceback": [
      "\u001b[0;31m---------------------------------------------------------------------------\u001b[0m",
      "\u001b[0;31mNameError\u001b[0m                                 Traceback (most recent call last)",
      "\u001b[0;32m/var/folders/q6/qq72m1_54ll6wb3r48wv1zzm0000gn/T/ipykernel_97327/13868420.py\u001b[0m in \u001b[0;36m<module>\u001b[0;34m\u001b[0m\n\u001b[0;32m----> 1\u001b[0;31m \u001b[0mpdf_writer\u001b[0m\u001b[0;34m.\u001b[0m\u001b[0mwrite\u001b[0m\u001b[0;34m(\u001b[0m\u001b[0mpdf_output\u001b[0m\u001b[0;34m)\u001b[0m\u001b[0;34m\u001b[0m\u001b[0;34m\u001b[0m\u001b[0m\n\u001b[0m",
      "\u001b[0;31mNameError\u001b[0m: name 'pdf_writer' is not defined"
     ]
    }
   ],
   "source": [
    "pdf_writer.write(pdf_output)"
   ]
  },
  {
   "cell_type": "code",
   "execution_count": 10,
   "id": "baa81787",
   "metadata": {},
   "outputs": [],
   "source": [
    "pdf_output.close()"
   ]
  },
  {
   "cell_type": "code",
   "execution_count": 11,
   "id": "c3b61d5e",
   "metadata": {},
   "outputs": [],
   "source": [
    "f.close()"
   ]
  },
  {
   "cell_type": "code",
   "execution_count": null,
   "id": "610ce7f5",
   "metadata": {},
   "outputs": [],
   "source": [
    "\n"
   ]
  },
  {
   "cell_type": "code",
   "execution_count": null,
   "id": "4e3a481c",
   "metadata": {},
   "outputs": [],
   "source": []
  },
  {
   "cell_type": "code",
   "execution_count": null,
   "id": "d55f372c",
   "metadata": {},
   "outputs": [],
   "source": []
  },
  {
   "cell_type": "code",
   "execution_count": 12,
   "id": "a4617e41",
   "metadata": {},
   "outputs": [
    {
     "ename": "NameError",
     "evalue": "name 'PyPDF2' is not defined",
     "output_type": "error",
     "traceback": [
      "\u001b[0;31m---------------------------------------------------------------------------\u001b[0m",
      "\u001b[0;31mNameError\u001b[0m                                 Traceback (most recent call last)",
      "\u001b[0;32m/var/folders/q6/qq72m1_54ll6wb3r48wv1zzm0000gn/T/ipykernel_97327/402991737.py\u001b[0m in \u001b[0;36m<module>\u001b[0;34m\u001b[0m\n\u001b[1;32m      1\u001b[0m \u001b[0mbrand_new\u001b[0m \u001b[0;34m=\u001b[0m \u001b[0mopen\u001b[0m\u001b[0;34m(\u001b[0m\u001b[0;34m'My_new_pdf.pdf'\u001b[0m\u001b[0;34m,\u001b[0m \u001b[0;34m'rb'\u001b[0m\u001b[0;34m)\u001b[0m\u001b[0;34m\u001b[0m\u001b[0;34m\u001b[0m\u001b[0m\n\u001b[0;32m----> 2\u001b[0;31m \u001b[0mpdf_reader\u001b[0m \u001b[0;34m=\u001b[0m \u001b[0mPyPDF2\u001b[0m\u001b[0;34m.\u001b[0m\u001b[0mPdfFileReader\u001b[0m\u001b[0;34m(\u001b[0m\u001b[0mbrand_new\u001b[0m\u001b[0;34m)\u001b[0m\u001b[0;34m\u001b[0m\u001b[0;34m\u001b[0m\u001b[0m\n\u001b[0m",
      "\u001b[0;31mNameError\u001b[0m: name 'PyPDF2' is not defined"
     ]
    }
   ],
   "source": [
    "brand_new = open('My_new_pdf.pdf', 'rb')\n",
    "pdf_reader = PyPDF2.PdfFileReader(brand_new)"
   ]
  },
  {
   "cell_type": "code",
   "execution_count": 57,
   "id": "424441e6",
   "metadata": {},
   "outputs": [
    {
     "data": {
      "text/plain": [
       "1"
      ]
     },
     "execution_count": 57,
     "metadata": {},
     "output_type": "execute_result"
    }
   ],
   "source": [
    "pdf_reader.numPages"
   ]
  },
  {
   "cell_type": "code",
   "execution_count": 61,
   "id": "ae74de02",
   "metadata": {},
   "outputs": [],
   "source": [
    "f= open('Tell me about yourself.pdf', 'rb')\n",
    "\n",
    "pdf_text= [0]\n",
    "\n",
    "pdf_reader=PyPDF2.PdfFileReader(f)"
   ]
  },
  {
   "cell_type": "code",
   "execution_count": 64,
   "id": "2f970cad",
   "metadata": {},
   "outputs": [],
   "source": [
    "for p in range(pdf_reader.numPages):\n",
    "    page= pdf_reader.getPage(p)\n",
    "    pdf_text.append(page.extractText())\n",
    "f.close()"
   ]
  },
  {
   "cell_type": "code",
   "execution_count": 65,
   "id": "ea616f51",
   "metadata": {},
   "outputs": [
    {
     "data": {
      "text/plain": [
       "[0,\n",
       " 'Ł \\n \\nLear ners may download copyr ighted mater ial for their use for the \\npur pose of the online program only.\\nŁ \\n \\nExcept as otherwise expressly per mitted under copyright law, no use \\nother than for the pur pose of the online program is permitted.\\nŁ \\n \\nNo copying, redistribution, retransmission, publication or exploitation, \\ncommercial or otherwise of material will be per mitted without the \\nexpress per mission of IIT Madras.\\nŁ \\n \\nLear ner acknowledges that he/she does not acquire any ownership \\nr ights by downloading copyr ighted mater ial.\\nŁ \\n \\nLear ners may not modify, publish, transmit, par ticipate in the transfer or \\nsale, create der ivative wor ks, or in any way exploit, any of the content,\\n \\nin whole or in part. \\nCopyright and ter ms of use\\nIIT Madras is the sole owner of the content available in this por tal -\\nonlinedegree.iitm.ac.in\\n and the content is copyr ighted to IIT Madras.\\nBS\\nc\\n \\nDegree\\n',\n",
       " 'TELL ME ABOUTYOURSELF \\nKARTHIKA SATHYANATHAN \\n',\n",
       " 'Tell me about yourself ! \\nFirst question (interview) \\nGood answer \\n strong and positiveimpression to the interviewer. \\nInterviewer wants to know what is most important to you.  \\nGreet and sit down. \\nOne sentence intro \\n this sentence should summarise who you are. Use adjectives.  \\n \\nELT industry.  \\n \\n',\n",
       " 'Tell me about yourself ! \\nI am arecentgraduate fromIIT Madras with aBSc degreeinData Science. \\nAdd three to five sentencesabout yo urachievements plus proo f of accomplishment \\nThistell youwh y you  are ago od  fit for thejob .  \\nBe morespecific. My success \\n I specialise in teaching BusinessEng lish. I have trained morethan \\n50 00  employees \\nof different multinational companies. Many havebecomerepeatcustomers.  \\nMention youraccomplishments in college. \\nI have secured 9.5 \\ngpa\\n and have do ne \\n----\\n courseswithNPTEL (relatedto wh at thecompany can \\noffer you).I have interned at \\n----\\n \\non \\n---\\n wh ich helpedme develop my final year proj ect. . It was \\nduring this pr oject that I discoveredthat I am a team player.  \\n',\n",
       " 'Say why you want this job. \\nNo negative comments on previous company (My boss is bad. My coworkers are plotting \\nagainst me).  \\nHow is your skills aligned to their requirements?  \\nI am very happy in my job but I am looking for a more challenging role; onewhere I can \\nuse my skills in a managerial position.That is why I want this job.  \\nI am looking for a job where I can put my education and skills to use, where I will be \\nchallenged to learn and grow, and contribute to the success of the company.  \\n \\n',\n",
       " 'Tell me about yourself !\\n \\nI  \\nam\\n \\nan\\n En glish  teacher and  a  teacher  trainer\\n with  seve n  \\n \\n of experience \\nin\\n \\nELT industry.\\n I  spec ialise \\nin\\n teaching\\n Busines s Engli sh .\\n I  have  traine d more  tha n \\n5000\\n employees \\nof\\n different multinational companies. Many have become repeat \\ncust omer s.\\n I \\nam\\n looking for a  job where I  \\ncan\\n put  \\nmy\\n education and skills  \\nto\\n use,  \\nwhere I  will be  challenged \\nto\\n learn  and grow,\\n and  contribute \\nto\\n the success  of the \\ncompany. I \\nam\\n very happy \\nin\\n \\nmy\\n current  job \\nbut\\n I \\nam\\n looking for a more \\nchalle nging role\\n;  one where  I  can  use  \\nmy\\n skil ls \\nin\\n a  manag erial position\\n.\\n That \\nis\\n \\nwhy I want  \\nthi s job .\\n \\n \\n',\n",
       " 'Tell me about yourself !\\n \\nI \\nam\\n a recent graduate from \\nIIT\\n Madras with a BSc degree \\nin\\n Data Science. \\nI have secured 9.5 gpa and have done xyz courses with NPTEL (related \\nto\\n \\nwhat the company can offer you). I have interned \\nat\\n \\nxyz\\n \\non\\n zyx which \\nhelped \\nme\\n develop \\nmy\\n final year project. . \\nIt\\n was during this project that I \\ndiscovered that I \\nam\\n a \\nteam\\n player. I \\nam\\n looking for a job where I \\ncan\\n \\nput\\n \\nmy\\n education and skills \\nto\\n use, where I will \\nbe\\n challenged \\nto\\n \\nlearn\\n and \\ngrow, and contribute \\nto\\n the success \\nof\\n the company. That \\nis\\n why I want this \\njob.  \\n \\n \\n \\n',\n",
       " 'Quick tips \\n\\n \\n \\n\\n \\nDono tuse superlatives to describeyo urself.  \\n\\n \\nSpendonlya little time talking abouteachjob, focus on your achievements.  \\nSpeak naturally.  \\nBe confident andmaintain goodeye contact.  \\nMake it a conversationand not a monologue.  \\n \\n']"
      ]
     },
     "execution_count": 65,
     "metadata": {},
     "output_type": "execute_result"
    }
   ],
   "source": [
    "pdf_text"
   ]
  },
  {
   "cell_type": "code",
   "execution_count": 66,
   "id": "7b5858e7",
   "metadata": {},
   "outputs": [
    {
     "data": {
      "text/plain": [
       "9"
      ]
     },
     "execution_count": 66,
     "metadata": {},
     "output_type": "execute_result"
    }
   ],
   "source": [
    "len(pdf_text)"
   ]
  },
  {
   "cell_type": "code",
   "execution_count": 70,
   "id": "e7c9a1b9",
   "metadata": {},
   "outputs": [
    {
     "name": "stdout",
     "output_type": "stream",
     "text": [
      "0\n",
      "\n",
      "\n",
      "\n",
      "\n",
      "\n",
      "\n",
      "Ł \n",
      " \n",
      "Lear ners may download copyr ighted mater ial for their use for the \n",
      "pur pose of the online program only.\n",
      "Ł \n",
      " \n",
      "Except as otherwise expressly per mitted under copyright law, no use \n",
      "other than for the pur pose of the online program is permitted.\n",
      "Ł \n",
      " \n",
      "No copying, redistribution, retransmission, publication or exploitation, \n",
      "commercial or otherwise of material will be per mitted without the \n",
      "express per mission of IIT Madras.\n",
      "Ł \n",
      " \n",
      "Lear ner acknowledges that he/she does not acquire any ownership \n",
      "r ights by downloading copyr ighted mater ial.\n",
      "Ł \n",
      " \n",
      "Lear ners may not modify, publish, transmit, par ticipate in the transfer or \n",
      "sale, create der ivative wor ks, or in any way exploit, any of the content,\n",
      " \n",
      "in whole or in part. \n",
      "Copyright and ter ms of use\n",
      "IIT Madras is the sole owner of the content available in this por tal -\n",
      "onlinedegree.iitm.ac.in\n",
      " and the content is copyr ighted to IIT Madras.\n",
      "BS\n",
      "c\n",
      " \n",
      "Degree\n",
      "\n",
      "\n",
      "\n",
      "\n",
      "\n",
      "\n",
      "\n",
      "TELL ME ABOUTYOURSELF \n",
      "KARTHIKA SATHYANATHAN \n",
      "\n",
      "\n",
      "\n",
      "\n",
      "\n",
      "\n",
      "\n",
      "Tell me about yourself ! \n",
      "First question (interview) \n",
      "Good answer \n",
      " strong and positiveimpression to the interviewer. \n",
      "Interviewer wants to know what is most important to you.  \n",
      "Greet and sit down. \n",
      "One sentence intro \n",
      " this sentence should summarise who you are. Use adjectives.  \n",
      " \n",
      "ELT industry.  \n",
      " \n",
      "\n",
      "\n",
      "\n",
      "\n",
      "\n",
      "\n",
      "\n",
      "Tell me about yourself ! \n",
      "I am arecentgraduate fromIIT Madras with aBSc degreeinData Science. \n",
      "Add three to five sentencesabout yo urachievements plus proo f of accomplishment \n",
      "Thistell youwh y you  are ago od  fit for thejob .  \n",
      "Be morespecific. My success \n",
      " I specialise in teaching BusinessEng lish. I have trained morethan \n",
      "50 00  employees \n",
      "of different multinational companies. Many havebecomerepeatcustomers.  \n",
      "Mention youraccomplishments in college. \n",
      "I have secured 9.5 \n",
      "gpa\n",
      " and have do ne \n",
      "----\n",
      " courseswithNPTEL (relatedto wh at thecompany can \n",
      "offer you).I have interned at \n",
      "----\n",
      " \n",
      "on \n",
      "---\n",
      " wh ich helpedme develop my final year proj ect. . It was \n",
      "during this pr oject that I discoveredthat I am a team player.  \n",
      "\n",
      "\n",
      "\n",
      "\n",
      "\n",
      "\n",
      "\n",
      "Say why you want this job. \n",
      "No negative comments on previous company (My boss is bad. My coworkers are plotting \n",
      "against me).  \n",
      "How is your skills aligned to their requirements?  \n",
      "I am very happy in my job but I am looking for a more challenging role; onewhere I can \n",
      "use my skills in a managerial position.That is why I want this job.  \n",
      "I am looking for a job where I can put my education and skills to use, where I will be \n",
      "challenged to learn and grow, and contribute to the success of the company.  \n",
      " \n",
      "\n",
      "\n",
      "\n",
      "\n",
      "\n",
      "\n",
      "\n",
      "Tell me about yourself !\n",
      " \n",
      "I  \n",
      "am\n",
      " \n",
      "an\n",
      " En glish  teacher and  a  teacher  trainer\n",
      " with  seve n  \n",
      " \n",
      " of experience \n",
      "in\n",
      " \n",
      "ELT industry.\n",
      " I  spec ialise \n",
      "in\n",
      " teaching\n",
      " Busines s Engli sh .\n",
      " I  have  traine d more  tha n \n",
      "5000\n",
      " employees \n",
      "of\n",
      " different multinational companies. Many have become repeat \n",
      "cust omer s.\n",
      " I \n",
      "am\n",
      " looking for a  job where I  \n",
      "can\n",
      " put  \n",
      "my\n",
      " education and skills  \n",
      "to\n",
      " use,  \n",
      "where I  will be  challenged \n",
      "to\n",
      " learn  and grow,\n",
      " and  contribute \n",
      "to\n",
      " the success  of the \n",
      "company. I \n",
      "am\n",
      " very happy \n",
      "in\n",
      " \n",
      "my\n",
      " current  job \n",
      "but\n",
      " I \n",
      "am\n",
      " looking for a more \n",
      "challe nging role\n",
      ";  one where  I  can  use  \n",
      "my\n",
      " skil ls \n",
      "in\n",
      " a  manag erial position\n",
      ".\n",
      " That \n",
      "is\n",
      " \n",
      "why I want  \n",
      "thi s job .\n",
      " \n",
      " \n",
      "\n",
      "\n",
      "\n",
      "\n",
      "\n",
      "\n",
      "\n",
      "Tell me about yourself !\n",
      " \n",
      "I \n",
      "am\n",
      " a recent graduate from \n",
      "IIT\n",
      " Madras with a BSc degree \n",
      "in\n",
      " Data Science. \n",
      "I have secured 9.5 gpa and have done xyz courses with NPTEL (related \n",
      "to\n",
      " \n",
      "what the company can offer you). I have interned \n",
      "at\n",
      " \n",
      "xyz\n",
      " \n",
      "on\n",
      " zyx which \n",
      "helped \n",
      "me\n",
      " develop \n",
      "my\n",
      " final year project. . \n",
      "It\n",
      " was during this project that I \n",
      "discovered that I \n",
      "am\n",
      " a \n",
      "team\n",
      " player. I \n",
      "am\n",
      " looking for a job where I \n",
      "can\n",
      " \n",
      "put\n",
      " \n",
      "my\n",
      " education and skills \n",
      "to\n",
      " use, where I will \n",
      "be\n",
      " challenged \n",
      "to\n",
      " \n",
      "learn\n",
      " and \n",
      "grow, and contribute \n",
      "to\n",
      " the success \n",
      "of\n",
      " the company. That \n",
      "is\n",
      " why I want this \n",
      "job.  \n",
      " \n",
      " \n",
      " \n",
      "\n",
      "\n",
      "\n",
      "\n",
      "\n",
      "\n",
      "\n",
      "Quick tips \n",
      "\n",
      " \n",
      " \n",
      "\n",
      " \n",
      "Dono tuse superlatives to describeyo urself.  \n",
      "\n",
      " \n",
      "Spendonlya little time talking abouteachjob, focus on your achievements.  \n",
      "Speak naturally.  \n",
      "Be confident andmaintain goodeye contact.  \n",
      "Make it a conversationand not a monologue.  \n",
      " \n",
      "\n",
      "\n",
      "\n",
      "\n",
      "\n",
      "\n",
      "\n"
     ]
    }
   ],
   "source": [
    "for page in pdf_text:\n",
    "    print(page)\n",
    "    print('\\n')\n",
    "    print('\\n')    \n",
    "    print('\\n')    "
   ]
  },
  {
   "cell_type": "code",
   "execution_count": null,
   "id": "cad13953",
   "metadata": {},
   "outputs": [],
   "source": []
  }
 ],
 "metadata": {
  "kernelspec": {
   "display_name": "Python 3 (ipykernel)",
   "language": "python",
   "name": "python3"
  },
  "language_info": {
   "codemirror_mode": {
    "name": "ipython",
    "version": 3
   },
   "file_extension": ".py",
   "mimetype": "text/x-python",
   "name": "python",
   "nbconvert_exporter": "python",
   "pygments_lexer": "ipython3",
   "version": "3.9.7"
  }
 },
 "nbformat": 4,
 "nbformat_minor": 5
}
