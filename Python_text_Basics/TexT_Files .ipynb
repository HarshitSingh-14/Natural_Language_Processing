{
 "cells": [
  {
   "cell_type": "markdown",
   "id": "2dc1e4b0",
   "metadata": {},
   "source": [
    "### Text Input and spacing "
   ]
  },
  {
   "cell_type": "code",
   "execution_count": 1,
   "id": "56c8d9b5",
   "metadata": {},
   "outputs": [],
   "source": [
    "person = \"harshit\""
   ]
  },
  {
   "cell_type": "code",
   "execution_count": 2,
   "id": "6365afcc",
   "metadata": {},
   "outputs": [
    {
     "name": "stdout",
     "output_type": "stream",
     "text": [
      "My name is harshit\n"
     ]
    }
   ],
   "source": [
    "print(\"My name is {}\".format(person))"
   ]
  },
  {
   "cell_type": "code",
   "execution_count": 3,
   "id": "141d2560",
   "metadata": {},
   "outputs": [
    {
     "name": "stdout",
     "output_type": "stream",
     "text": [
      "My name is harshit\n"
     ]
    }
   ],
   "source": [
    "print(f\"My name is {person}\")"
   ]
  },
  {
   "cell_type": "code",
   "execution_count": 4,
   "id": "4e758c3b",
   "metadata": {},
   "outputs": [],
   "source": [
    "library= [('Name', 'Topics','Roll-Number'),('Mr-A' , 'Ml', '1'),('Mr-B', 'AI', '2')]"
   ]
  },
  {
   "cell_type": "code",
   "execution_count": 5,
   "id": "52f669fb",
   "metadata": {},
   "outputs": [
    {
     "data": {
      "text/plain": [
       "[('Name', 'Topics', 'Roll-Number'), ('Mr-A', 'Ml', '1'), ('Mr-B', 'AI', '2')]"
      ]
     },
     "execution_count": 5,
     "metadata": {},
     "output_type": "execute_result"
    }
   ],
   "source": [
    "library"
   ]
  },
  {
   "cell_type": "code",
   "execution_count": 9,
   "id": "ea2527d8",
   "metadata": {},
   "outputs": [
    {
     "name": "stdout",
     "output_type": "stream",
     "text": [
      "('Name', 'Topics', 'Roll-Number')\n",
      "('Mr-A', 'Ml', '1')\n",
      "('Mr-B', 'AI', '2')\n"
     ]
    }
   ],
   "source": [
    "for per in library:\n",
    "    print(per)"
   ]
  },
  {
   "cell_type": "code",
   "execution_count": 18,
   "id": "48df7b0e",
   "metadata": {
    "scrolled": true
   },
   "outputs": [
    {
     "name": "stdout",
     "output_type": "stream",
     "text": [
      "Name       ....Topics  Roll-Number\n",
      "Mr-A       ........Ml  ---------1\n",
      "Mr-B       ........AI  ---------2\n"
     ]
    }
   ],
   "source": [
    "for name , topic , roll in library: \n",
    "    print(f\"{name:{10}} {topic:.>{10}}  {roll:->{10}}\")   # :{10} -> for spacing of 10 lines"
   ]
  },
  {
   "cell_type": "markdown",
   "id": "b1eaa9f6",
   "metadata": {},
   "source": [
    "### DAte Time "
   ]
  },
  {
   "cell_type": "code",
   "execution_count": 19,
   "id": "c28aee87",
   "metadata": {},
   "outputs": [],
   "source": [
    "from datetime import datetime"
   ]
  },
  {
   "cell_type": "code",
   "execution_count": 20,
   "id": "bfa7c47d",
   "metadata": {},
   "outputs": [],
   "source": [
    "today= datetime(year = 2019 , month = 2, day=14)"
   ]
  },
  {
   "cell_type": "code",
   "execution_count": 25,
   "id": "01d612ed",
   "metadata": {},
   "outputs": [
    {
     "name": "stdout",
     "output_type": "stream",
     "text": [
      " February 14\n"
     ]
    }
   ],
   "source": [
    "print(f\"{today: %B %d}\")"
   ]
  },
  {
   "cell_type": "code",
   "execution_count": 22,
   "id": "9c796c7b",
   "metadata": {},
   "outputs": [
    {
     "data": {
      "text/plain": [
       "datetime.datetime(2019, 2, 14, 0, 0)"
      ]
     },
     "execution_count": 22,
     "metadata": {},
     "output_type": "execute_result"
    }
   ],
   "source": [
    "today"
   ]
  },
  {
   "cell_type": "markdown",
   "id": "7ab652c5",
   "metadata": {},
   "source": [
    "## Write and File-Handling"
   ]
  },
  {
   "cell_type": "code",
   "execution_count": 26,
   "id": "1c30686e",
   "metadata": {},
   "outputs": [
    {
     "name": "stdout",
     "output_type": "stream",
     "text": [
      "Writing test.txt\n"
     ]
    }
   ],
   "source": [
    "%%writefile test.txt\n",
    "Hello gizee, this is a test file\n",
    "huehue"
   ]
  },
  {
   "cell_type": "code",
   "execution_count": 43,
   "id": "4d29f196",
   "metadata": {},
   "outputs": [],
   "source": [
    "my_file= open('test.txt')"
   ]
  },
  {
   "cell_type": "code",
   "execution_count": 44,
   "id": "2195cb8a",
   "metadata": {},
   "outputs": [
    {
     "data": {
      "text/plain": [
       "<_io.TextIOWrapper name='test.txt' mode='r' encoding='UTF-8'>"
      ]
     },
     "execution_count": 44,
     "metadata": {},
     "output_type": "execute_result"
    }
   ],
   "source": [
    "my_file"
   ]
  },
  {
   "cell_type": "code",
   "execution_count": 45,
   "id": "d1bf174a",
   "metadata": {},
   "outputs": [
    {
     "data": {
      "text/plain": [
       "'Hello gizee, this is a test file\\nhuehue\\n'"
      ]
     },
     "execution_count": 45,
     "metadata": {},
     "output_type": "execute_result"
    }
   ],
   "source": [
    "my_file.read()"
   ]
  },
  {
   "cell_type": "code",
   "execution_count": 48,
   "id": "69f4dd6d",
   "metadata": {},
   "outputs": [
    {
     "data": {
      "text/plain": [
       "3"
      ]
     },
     "execution_count": 48,
     "metadata": {},
     "output_type": "execute_result"
    }
   ],
   "source": [
    "my_file.seek(3)    # pointer___"
   ]
  },
  {
   "cell_type": "code",
   "execution_count": 54,
   "id": "2b2cb2a3",
   "metadata": {},
   "outputs": [
    {
     "data": {
      "text/plain": [
       "''"
      ]
     },
     "execution_count": 54,
     "metadata": {},
     "output_type": "execute_result"
    }
   ],
   "source": [
    "my_file.read()"
   ]
  },
  {
   "cell_type": "code",
   "execution_count": 60,
   "id": "6786321a",
   "metadata": {},
   "outputs": [],
   "source": [
    "file = open('test.txt')"
   ]
  },
  {
   "cell_type": "code",
   "execution_count": 70,
   "id": "9a3925c7",
   "metadata": {},
   "outputs": [
    {
     "name": "stdout",
     "output_type": "stream",
     "text": [
      "H\n",
      "h\n"
     ]
    },
    {
     "data": {
      "text/plain": [
       "0"
      ]
     },
     "execution_count": 70,
     "metadata": {},
     "output_type": "execute_result"
    }
   ],
   "source": [
    "for line in file.readlines():   \n",
    "    print(line[0])\n",
    "file.seek(0)\n"
   ]
  },
  {
   "cell_type": "code",
   "execution_count": 71,
   "id": "715ac552",
   "metadata": {},
   "outputs": [
    {
     "name": "stdout",
     "output_type": "stream",
     "text": [
      "Hello\n",
      "huehue\n"
     ]
    }
   ],
   "source": [
    "for line in file.readlines():   \n",
    "    print(line.split()[0])\n"
   ]
  },
  {
   "cell_type": "code",
   "execution_count": 72,
   "id": "344f87a0",
   "metadata": {},
   "outputs": [],
   "source": [
    "my_file= open('test.txt', 'w+')"
   ]
  },
  {
   "cell_type": "code",
   "execution_count": 73,
   "id": "dd1ded26",
   "metadata": {},
   "outputs": [
    {
     "data": {
      "text/plain": [
       "''"
      ]
     },
     "execution_count": 73,
     "metadata": {},
     "output_type": "execute_result"
    }
   ],
   "source": [
    "my_file.read()"
   ]
  },
  {
   "cell_type": "code",
   "execution_count": 78,
   "id": "291716cc",
   "metadata": {},
   "outputs": [
    {
     "data": {
      "text/plain": [
       "34"
      ]
     },
     "execution_count": 78,
     "metadata": {},
     "output_type": "execute_result"
    }
   ],
   "source": [
    "my_file.write('Myself steping up for the RESEARCH')   # writes each time it runs"
   ]
  },
  {
   "cell_type": "code",
   "execution_count": 79,
   "id": "0fdd1c75",
   "metadata": {},
   "outputs": [
    {
     "data": {
      "text/plain": [
       "0"
      ]
     },
     "execution_count": 79,
     "metadata": {},
     "output_type": "execute_result"
    }
   ],
   "source": [
    "my_file.seek(0)"
   ]
  },
  {
   "cell_type": "code",
   "execution_count": 80,
   "id": "87363de4",
   "metadata": {},
   "outputs": [
    {
     "data": {
      "text/plain": [
       "'Myself steping up for the RESESRCHMyself steping up for the RESEARCHMyself steping up for the RESEARCH'"
      ]
     },
     "execution_count": 80,
     "metadata": {},
     "output_type": "execute_result"
    }
   ],
   "source": [
    "my_file.read()"
   ]
  },
  {
   "cell_type": "code",
   "execution_count": 93,
   "id": "56c25b35",
   "metadata": {},
   "outputs": [],
   "source": [
    "my_file.close()\n",
    "my_file.close()"
   ]
  },
  {
   "cell_type": "code",
   "execution_count": 107,
   "id": "c751ed62",
   "metadata": {},
   "outputs": [],
   "source": [
    "my_file= open('huehue.txt',mode ='a+')   # APpend creates file if not present"
   ]
  },
  {
   "cell_type": "code",
   "execution_count": 102,
   "id": "7b780042",
   "metadata": {},
   "outputs": [
    {
     "data": {
      "text/plain": [
       "15"
      ]
     },
     "execution_count": 102,
     "metadata": {},
     "output_type": "execute_result"
    }
   ],
   "source": [
    "my_file.write(\"Trying to write\")"
   ]
  },
  {
   "cell_type": "code",
   "execution_count": 103,
   "id": "6fb1cc73",
   "metadata": {},
   "outputs": [
    {
     "data": {
      "text/plain": [
       "''"
      ]
     },
     "execution_count": 103,
     "metadata": {},
     "output_type": "execute_result"
    }
   ],
   "source": [
    "my_file.read()"
   ]
  },
  {
   "cell_type": "code",
   "execution_count": 104,
   "id": "aedab790",
   "metadata": {},
   "outputs": [],
   "source": [
    "my_file.close()"
   ]
  },
  {
   "cell_type": "code",
   "execution_count": 105,
   "id": "2d0b3c3f",
   "metadata": {},
   "outputs": [],
   "source": [
    "my_file= open('huehue.txt')"
   ]
  },
  {
   "cell_type": "code",
   "execution_count": 108,
   "id": "228c95c4",
   "metadata": {},
   "outputs": [
    {
     "data": {
      "text/plain": [
       "3"
      ]
     },
     "execution_count": 108,
     "metadata": {},
     "output_type": "execute_result"
    }
   ],
   "source": [
    "my_file.write(\"sdf\")"
   ]
  },
  {
   "cell_type": "code",
   "execution_count": 110,
   "id": "0e77d08d",
   "metadata": {},
   "outputs": [
    {
     "data": {
      "text/plain": [
       "'Trying to writeTrying to writeTrying to writeTrying to writesdf'"
      ]
     },
     "execution_count": 110,
     "metadata": {},
     "output_type": "execute_result"
    }
   ],
   "source": [
    "my_file.seek(0)\n",
    "my_file.read()"
   ]
  },
  {
   "cell_type": "markdown",
   "id": "fb6b6c1f",
   "metadata": {},
   "source": [
    "#### COntext manager for AUTO CLOSING"
   ]
  },
  {
   "cell_type": "code",
   "execution_count": 115,
   "id": "294d8cdc",
   "metadata": {},
   "outputs": [],
   "source": [
    "with open('huehue.txt','r') as mynewfile:\n",
    "    my_variable = mynewfile.readlines()\n"
   ]
  },
  {
   "cell_type": "code",
   "execution_count": 116,
   "id": "2149d807",
   "metadata": {},
   "outputs": [
    {
     "data": {
      "text/plain": [
       "['Trying to writeTrying to writeTrying to writeTrying to writesdf']"
      ]
     },
     "execution_count": 116,
     "metadata": {},
     "output_type": "execute_result"
    }
   ],
   "source": [
    "my_variable"
   ]
  },
  {
   "cell_type": "markdown",
   "id": "e764fb3e",
   "metadata": {},
   "source": [
    "## Working of the PDF"
   ]
  },
  {
   "cell_type": "code",
   "execution_count": 117,
   "id": "1f6af144",
   "metadata": {},
   "outputs": [
    {
     "ename": "ModuleNotFoundError",
     "evalue": "No module named 'PyPDF2'",
     "output_type": "error",
     "traceback": [
      "\u001b[0;31m---------------------------------------------------------------------------\u001b[0m",
      "\u001b[0;31mModuleNotFoundError\u001b[0m                       Traceback (most recent call last)",
      "\u001b[0;32m/var/folders/q6/qq72m1_54ll6wb3r48wv1zzm0000gn/T/ipykernel_85115/314715566.py\u001b[0m in \u001b[0;36m<module>\u001b[0;34m\u001b[0m\n\u001b[0;32m----> 1\u001b[0;31m \u001b[0;32mimport\u001b[0m \u001b[0mPyPDF2\u001b[0m\u001b[0;34m\u001b[0m\u001b[0;34m\u001b[0m\u001b[0m\n\u001b[0m",
      "\u001b[0;31mModuleNotFoundError\u001b[0m: No module named 'PyPDF2'"
     ]
    }
   ],
   "source": [
    "import PyPDF2"
   ]
  },
  {
   "cell_type": "code",
   "execution_count": null,
   "id": "e2251fce",
   "metadata": {},
   "outputs": [],
   "source": []
  }
 ],
 "metadata": {
  "kernelspec": {
   "display_name": "Python 3 (ipykernel)",
   "language": "python",
   "name": "python3"
  },
  "language_info": {
   "codemirror_mode": {
    "name": "ipython",
    "version": 3
   },
   "file_extension": ".py",
   "mimetype": "text/x-python",
   "name": "python",
   "nbconvert_exporter": "python",
   "pygments_lexer": "ipython3",
   "version": "3.9.7"
  }
 },
 "nbformat": 4,
 "nbformat_minor": 5
}
