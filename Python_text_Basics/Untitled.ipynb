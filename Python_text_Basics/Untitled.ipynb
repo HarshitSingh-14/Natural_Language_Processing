{
 "cells": [
  {
   "cell_type": "markdown",
   "id": "2d709d2c",
   "metadata": {},
   "source": [
    "## Regex Expression"
   ]
  },
  {
   "cell_type": "code",
   "execution_count": 1,
   "id": "9b2ec17a",
   "metadata": {},
   "outputs": [],
   "source": [
    "text = \"My number is 9205021433 and 8383023359\""
   ]
  },
  {
   "cell_type": "code",
   "execution_count": 2,
   "id": "ce76e120",
   "metadata": {},
   "outputs": [],
   "source": [
    "# Finding phone number in text "
   ]
  },
  {
   "cell_type": "code",
   "execution_count": 3,
   "id": "5a39b6f4",
   "metadata": {},
   "outputs": [],
   "source": [
    "import re"
   ]
  },
  {
   "cell_type": "code",
   "execution_count": 4,
   "id": "17d50b21",
   "metadata": {},
   "outputs": [],
   "source": [
    "pattern = \"number\""
   ]
  },
  {
   "cell_type": "code",
   "execution_count": 5,
   "id": "7901f196",
   "metadata": {},
   "outputs": [
    {
     "data": {
      "text/plain": [
       "<re.Match object; span=(3, 9), match='number'>"
      ]
     },
     "execution_count": 5,
     "metadata": {},
     "output_type": "execute_result"
    }
   ],
   "source": [
    "re.search(pattern,text)"
   ]
  },
  {
   "cell_type": "code",
   "execution_count": 6,
   "id": "1ca5a039",
   "metadata": {},
   "outputs": [],
   "source": [
    "match_test = re.search(pattern, text)"
   ]
  },
  {
   "cell_type": "code",
   "execution_count": 11,
   "id": "f68f7077",
   "metadata": {},
   "outputs": [
    {
     "data": {
      "text/plain": [
       "(3, 9)"
      ]
     },
     "execution_count": 11,
     "metadata": {},
     "output_type": "execute_result"
    }
   ],
   "source": [
    "match_test.span()"
   ]
  },
  {
   "cell_type": "code",
   "execution_count": 12,
   "id": "9278e218",
   "metadata": {},
   "outputs": [
    {
     "data": {
      "text/plain": [
       "3"
      ]
     },
     "execution_count": 12,
     "metadata": {},
     "output_type": "execute_result"
    }
   ],
   "source": [
    "match_test.start()"
   ]
  },
  {
   "cell_type": "code",
   "execution_count": null,
   "id": "b4300bbb",
   "metadata": {},
   "outputs": [],
   "source": []
  },
  {
   "cell_type": "markdown",
   "id": "cc37ce47",
   "metadata": {},
   "source": [
    "#### Only finds the 1st "
   ]
  },
  {
   "cell_type": "code",
   "execution_count": 13,
   "id": "7a4d74a9",
   "metadata": {},
   "outputs": [],
   "source": [
    "text = \" The number is the number \""
   ]
  },
  {
   "cell_type": "code",
   "execution_count": 14,
   "id": "e310d287",
   "metadata": {},
   "outputs": [
    {
     "data": {
      "text/plain": [
       "<re.Match object; span=(5, 11), match='number'>"
      ]
     },
     "execution_count": 14,
     "metadata": {},
     "output_type": "execute_result"
    }
   ],
   "source": [
    "re.search(pattern , text)"
   ]
  },
  {
   "cell_type": "code",
   "execution_count": 15,
   "id": "c60109c7",
   "metadata": {},
   "outputs": [
    {
     "data": {
      "text/plain": [
       "['number', 'number']"
      ]
     },
     "execution_count": 15,
     "metadata": {},
     "output_type": "execute_result"
    }
   ],
   "source": [
    "re.findall(pattern,text)"
   ]
  },
  {
   "cell_type": "code",
   "execution_count": 17,
   "id": "ba38e53b",
   "metadata": {},
   "outputs": [
    {
     "name": "stdout",
     "output_type": "stream",
     "text": [
      "(5, 11)\n",
      "(19, 25)\n"
     ]
    }
   ],
   "source": [
    "for match in re.finditer(pattern,text):    # finding the iteration -> span...\n",
    "    print(match.span())"
   ]
  },
  {
   "cell_type": "markdown",
   "id": "4c71a931",
   "metadata": {},
   "source": [
    "#### Regex "
   ]
  },
  {
   "cell_type": "code",
   "execution_count": 19,
   "id": "e08c1e59",
   "metadata": {},
   "outputs": [],
   "source": [
    "text = \"My telephone number is 408-555-1234\""
   ]
  },
  {
   "cell_type": "code",
   "execution_count": 20,
   "id": "4113982c",
   "metadata": {},
   "outputs": [],
   "source": [
    "phone = re.search(r'\\d\\d\\d-\\d\\d\\d-\\d\\d\\d\\d',text)   # r is in syntax"
   ]
  },
  {
   "cell_type": "code",
   "execution_count": 21,
   "id": "5de24336",
   "metadata": {},
   "outputs": [
    {
     "data": {
      "text/plain": [
       "'408-555-1234'"
      ]
     },
     "execution_count": 21,
     "metadata": {},
     "output_type": "execute_result"
    }
   ],
   "source": [
    "phone.group()"
   ]
  },
  {
   "cell_type": "markdown",
   "id": "86cf12c2",
   "metadata": {},
   "source": [
    "#### Quantifiers"
   ]
  },
  {
   "cell_type": "code",
   "execution_count": 22,
   "id": "46c970bf",
   "metadata": {},
   "outputs": [
    {
     "data": {
      "text/plain": [
       "<re.Match object; span=(23, 35), match='408-555-1234'>"
      ]
     },
     "execution_count": 22,
     "metadata": {},
     "output_type": "execute_result"
    }
   ],
   "source": [
    "re.search(r'\\d{3}-\\d{3}-\\d{4}',text)"
   ]
  },
  {
   "cell_type": "markdown",
   "id": "1e3abcf2",
   "metadata": {},
   "source": [
    "#### Groups"
   ]
  },
  {
   "cell_type": "code",
   "execution_count": 25,
   "id": "9d1dc34f",
   "metadata": {},
   "outputs": [
    {
     "data": {
      "text/plain": [
       "'408-'"
      ]
     },
     "execution_count": 25,
     "metadata": {},
     "output_type": "execute_result"
    }
   ],
   "source": [
    "pattern= r\"(\\d{3}-)(\\d{3})-(\\d{4})\"\n",
    "mymatch = re.search(pattern, text)\n",
    "mymatch.group(1) # we can also group......"
   ]
  },
  {
   "cell_type": "code",
   "execution_count": 27,
   "id": "e2d26324",
   "metadata": {},
   "outputs": [
    {
     "data": {
      "text/plain": [
       "<re.Match object; span=(4, 10), match=' woman'>"
      ]
     },
     "execution_count": 27,
     "metadata": {},
     "output_type": "execute_result"
    }
   ],
   "source": [
    "re. search (r\"man | woman\", \"This woman was here\")    # woman or man "
   ]
  },
  {
   "cell_type": "markdown",
   "id": "eec9699c",
   "metadata": {},
   "source": [
    "#### wild card"
   ]
  },
  {
   "cell_type": "code",
   "execution_count": 28,
   "id": "8222f1f0",
   "metadata": {},
   "outputs": [
    {
     "data": {
      "text/plain": [
       "['cat', 'hat', 'sat']"
      ]
     },
     "execution_count": 28,
     "metadata": {},
     "output_type": "execute_result"
    }
   ],
   "source": [
    "re.findall(r\".at\", \"The cat in the hat sat\")"
   ]
  },
  {
   "cell_type": "markdown",
   "id": "3891466c",
   "metadata": {},
   "source": [
    "#### Ends with number $"
   ]
  },
  {
   "cell_type": "code",
   "execution_count": 30,
   "id": "3c6e3b09",
   "metadata": {},
   "outputs": [
    {
     "data": {
      "text/plain": [
       "['2']"
      ]
     },
     "execution_count": 30,
     "metadata": {},
     "output_type": "execute_result"
    }
   ],
   "source": [
    "re.findall(r\"\\d$\", 'This ends with a number 2')   # ^ before for start and $ for last...."
   ]
  },
  {
   "cell_type": "markdown",
   "id": "b7637b23",
   "metadata": {},
   "source": [
    "#### Excluduing a digit [ ]   + to get all together"
   ]
  },
  {
   "cell_type": "code",
   "execution_count": 36,
   "id": "ac15ae30",
   "metadata": {},
   "outputs": [
    {
     "data": {
      "text/plain": [
       "['Number are ', ' ', ' ', ' , ', ' digit numbers are ', ' ', ' ']"
      ]
     },
     "execution_count": 36,
     "metadata": {},
     "output_type": "execute_result"
    }
   ],
   "source": [
    "re.findall(r\"[^\\d]+\",\"Number are 2 3 5 , 2 digit numbers are 23 324 5\")"
   ]
  },
  {
   "cell_type": "markdown",
   "id": "d3af69fc",
   "metadata": {},
   "source": [
    "#### Removing punctuations "
   ]
  },
  {
   "cell_type": "code",
   "execution_count": 38,
   "id": "70097c41",
   "metadata": {},
   "outputs": [],
   "source": [
    "test_phrase = \"This is a string! but it has puncutation. How to remove it?\"\n",
    "my_list=re. findall (r\"[^!.? ]+\", test_phrase)"
   ]
  },
  {
   "cell_type": "code",
   "execution_count": 39,
   "id": "56254d62",
   "metadata": {},
   "outputs": [
    {
     "data": {
      "text/plain": [
       "'This is a string but it has puncutation How to remove it'"
      ]
     },
     "execution_count": 39,
     "metadata": {},
     "output_type": "execute_result"
    }
   ],
   "source": [
    "' '.join(my_list)"
   ]
  },
  {
   "cell_type": "markdown",
   "id": "bfc05459",
   "metadata": {},
   "source": [
    "#### Finding hyphen words"
   ]
  },
  {
   "cell_type": "code",
   "execution_count": 40,
   "id": "5c3a3967",
   "metadata": {},
   "outputs": [
    {
     "data": {
      "text/plain": [
       "['hyphen-words', 'long-ish']"
      ]
     },
     "execution_count": 40,
     "metadata": {},
     "output_type": "execute_result"
    }
   ],
   "source": [
    "text = \"Only find the hyphen-words. Were are the long-ish dash words?\"\n",
    "re. findall(r'[\\w]+-[\\w]+',text)"
   ]
  },
  {
   "cell_type": "code",
   "execution_count": null,
   "id": "b132a441",
   "metadata": {},
   "outputs": [],
   "source": []
  }
 ],
 "metadata": {
  "kernelspec": {
   "display_name": "Python 3 (ipykernel)",
   "language": "python",
   "name": "python3"
  },
  "language_info": {
   "codemirror_mode": {
    "name": "ipython",
    "version": 3
   },
   "file_extension": ".py",
   "mimetype": "text/x-python",
   "name": "python",
   "nbconvert_exporter": "python",
   "pygments_lexer": "ipython3",
   "version": "3.9.7"
  }
 },
 "nbformat": 4,
 "nbformat_minor": 5
}
