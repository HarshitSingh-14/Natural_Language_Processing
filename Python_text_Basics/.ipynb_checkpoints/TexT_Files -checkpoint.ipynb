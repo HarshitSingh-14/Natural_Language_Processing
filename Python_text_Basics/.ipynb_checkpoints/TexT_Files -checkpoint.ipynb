{
 "cells": [
  {
   "cell_type": "markdown",
   "id": "be97fc3c",
   "metadata": {},
   "source": [
    "### Text Input and spacing "
   ]
  },
  {
   "cell_type": "code",
   "execution_count": 1,
   "id": "b90852ad",
   "metadata": {},
   "outputs": [],
   "source": [
    "person = \"harshit\""
   ]
  },
  {
   "cell_type": "code",
   "execution_count": 2,
   "id": "8078f058",
   "metadata": {},
   "outputs": [
    {
     "name": "stdout",
     "output_type": "stream",
     "text": [
      "My name is harshit\n"
     ]
    }
   ],
   "source": [
    "print(\"My name is {}\".format(person))"
   ]
  },
  {
   "cell_type": "code",
   "execution_count": 3,
   "id": "8aa90215",
   "metadata": {},
   "outputs": [
    {
     "name": "stdout",
     "output_type": "stream",
     "text": [
      "My name is harshit\n"
     ]
    }
   ],
   "source": [
    "print(f\"My name is {person}\")"
   ]
  },
  {
   "cell_type": "code",
   "execution_count": 4,
   "id": "b1cfa726",
   "metadata": {},
   "outputs": [],
   "source": [
    "library= [('Name', 'Topics','Roll-Number'),('Mr-A' , 'Ml', '1'),('Mr-B', 'AI', '2')]"
   ]
  },
  {
   "cell_type": "code",
   "execution_count": 5,
   "id": "0262c33b",
   "metadata": {},
   "outputs": [
    {
     "data": {
      "text/plain": [
       "[('Name', 'Topics', 'Roll-Number'), ('Mr-A', 'Ml', '1'), ('Mr-B', 'AI', '2')]"
      ]
     },
     "execution_count": 5,
     "metadata": {},
     "output_type": "execute_result"
    }
   ],
   "source": [
    "library"
   ]
  },
  {
   "cell_type": "code",
   "execution_count": 6,
   "id": "e07a2b28",
   "metadata": {},
   "outputs": [
    {
     "name": "stdout",
     "output_type": "stream",
     "text": [
      "('Name', 'Topics', 'Roll-Number')\n",
      "('Mr-A', 'Ml', '1')\n",
      "('Mr-B', 'AI', '2')\n"
     ]
    }
   ],
   "source": [
    "for per in library:\n",
    "    print(per)"
   ]
  },
  {
   "cell_type": "code",
   "execution_count": 7,
   "id": "49306b7b",
   "metadata": {
    "scrolled": true
   },
   "outputs": [
    {
     "name": "stdout",
     "output_type": "stream",
     "text": [
      "Name       ....Topics  Roll-Number\n",
      "Mr-A       ........Ml  ---------1\n",
      "Mr-B       ........AI  ---------2\n"
     ]
    }
   ],
   "source": [
    "for name , topic , roll in library: \n",
    "    print(f\"{name:{10}} {topic:.>{10}}  {roll:->{10}}\")   # :{10} -> for spacing of 10 lines"
   ]
  },
  {
   "cell_type": "markdown",
   "id": "5ff53d5a",
   "metadata": {},
   "source": [
    "### DAte Time "
   ]
  },
  {
   "cell_type": "code",
   "execution_count": 8,
   "id": "12967503",
   "metadata": {},
   "outputs": [],
   "source": [
    "from datetime import datetime"
   ]
  },
  {
   "cell_type": "code",
   "execution_count": 9,
   "id": "c9150222",
   "metadata": {},
   "outputs": [],
   "source": [
    "today= datetime(year = 2019 , month = 2, day=14)"
   ]
  },
  {
   "cell_type": "code",
   "execution_count": 10,
   "id": "e516b8d8",
   "metadata": {},
   "outputs": [
    {
     "name": "stdout",
     "output_type": "stream",
     "text": [
      " February 14\n"
     ]
    }
   ],
   "source": [
    "print(f\"{today: %B %d}\")"
   ]
  },
  {
   "cell_type": "code",
   "execution_count": 11,
   "id": "0d5d3016",
   "metadata": {},
   "outputs": [
    {
     "data": {
      "text/plain": [
       "datetime.datetime(2019, 2, 14, 0, 0)"
      ]
     },
     "execution_count": 11,
     "metadata": {},
     "output_type": "execute_result"
    }
   ],
   "source": [
    "today"
   ]
  },
  {
   "cell_type": "markdown",
   "id": "8fb7af8f",
   "metadata": {},
   "source": [
    "## Write and File-Handling"
   ]
  },
  {
   "cell_type": "code",
   "execution_count": 12,
   "id": "6ce73b8b",
   "metadata": {},
   "outputs": [
    {
     "name": "stdout",
     "output_type": "stream",
     "text": [
      "Overwriting test.txt\n"
     ]
    }
   ],
   "source": [
    "%%writefile test.txt\n",
    "Hello gizee, this is a test file\n",
    "huehue"
   ]
  },
  {
   "cell_type": "code",
   "execution_count": 13,
   "id": "09526afa",
   "metadata": {},
   "outputs": [],
   "source": [
    "my_file= open('test.txt')"
   ]
  },
  {
   "cell_type": "code",
   "execution_count": 14,
   "id": "fdb4f24b",
   "metadata": {},
   "outputs": [
    {
     "data": {
      "text/plain": [
       "<_io.TextIOWrapper name='test.txt' mode='r' encoding='UTF-8'>"
      ]
     },
     "execution_count": 14,
     "metadata": {},
     "output_type": "execute_result"
    }
   ],
   "source": [
    "my_file"
   ]
  },
  {
   "cell_type": "code",
   "execution_count": 15,
   "id": "ad82caff",
   "metadata": {},
   "outputs": [
    {
     "data": {
      "text/plain": [
       "'Hello gizee, this is a test file\\nhuehue\\n'"
      ]
     },
     "execution_count": 15,
     "metadata": {},
     "output_type": "execute_result"
    }
   ],
   "source": [
    "my_file.read()"
   ]
  },
  {
   "cell_type": "code",
   "execution_count": 16,
   "id": "1c09887a",
   "metadata": {},
   "outputs": [
    {
     "data": {
      "text/plain": [
       "3"
      ]
     },
     "execution_count": 16,
     "metadata": {},
     "output_type": "execute_result"
    }
   ],
   "source": [
    "my_file.seek(3)    # pointer___"
   ]
  },
  {
   "cell_type": "code",
   "execution_count": 17,
   "id": "22694fbc",
   "metadata": {},
   "outputs": [
    {
     "data": {
      "text/plain": [
       "'lo gizee, this is a test file\\nhuehue\\n'"
      ]
     },
     "execution_count": 17,
     "metadata": {},
     "output_type": "execute_result"
    }
   ],
   "source": [
    "my_file.read()"
   ]
  },
  {
   "cell_type": "code",
   "execution_count": 18,
   "id": "6110e2af",
   "metadata": {},
   "outputs": [],
   "source": [
    "file = open('test.txt')"
   ]
  },
  {
   "cell_type": "code",
   "execution_count": 34,
   "id": "3b83cb08",
   "metadata": {},
   "outputs": [],
   "source": [
    "for line in file.readline():   \n",
    "    print(line[0])\n"
   ]
  },
  {
   "cell_type": "code",
   "execution_count": 20,
   "id": "294da9d6",
   "metadata": {},
   "outputs": [],
   "source": [
    "for line in file.readlines():   \n",
    "    print(line.split()[0])\n"
   ]
  },
  {
   "cell_type": "code",
   "execution_count": 21,
   "id": "73c5b21a",
   "metadata": {},
   "outputs": [],
   "source": [
    "my_file= open('test.txt', 'w+')"
   ]
  },
  {
   "cell_type": "code",
   "execution_count": 22,
   "id": "671a41fc",
   "metadata": {},
   "outputs": [
    {
     "data": {
      "text/plain": [
       "''"
      ]
     },
     "execution_count": 22,
     "metadata": {},
     "output_type": "execute_result"
    }
   ],
   "source": [
    "my_file.read()"
   ]
  },
  {
   "cell_type": "code",
   "execution_count": 23,
   "id": "5744a6ff",
   "metadata": {},
   "outputs": [
    {
     "data": {
      "text/plain": [
       "34"
      ]
     },
     "execution_count": 23,
     "metadata": {},
     "output_type": "execute_result"
    }
   ],
   "source": [
    "my_file.write('Myself steping up for the RESEARCH')   # writes each time it runs"
   ]
  },
  {
   "cell_type": "code",
   "execution_count": 24,
   "id": "195f1c0c",
   "metadata": {},
   "outputs": [
    {
     "data": {
      "text/plain": [
       "0"
      ]
     },
     "execution_count": 24,
     "metadata": {},
     "output_type": "execute_result"
    }
   ],
   "source": [
    "my_file.seek(0)"
   ]
  },
  {
   "cell_type": "code",
   "execution_count": 25,
   "id": "63b5d76c",
   "metadata": {},
   "outputs": [
    {
     "data": {
      "text/plain": [
       "'Myself steping up for the RESEARCH'"
      ]
     },
     "execution_count": 25,
     "metadata": {},
     "output_type": "execute_result"
    }
   ],
   "source": [
    "my_file.read()"
   ]
  },
  {
   "cell_type": "code",
   "execution_count": 26,
   "id": "d6f6c605",
   "metadata": {},
   "outputs": [],
   "source": [
    "my_file.close()\n",
    "my_file.close()"
   ]
  },
  {
   "cell_type": "code",
   "execution_count": 27,
   "id": "c549227c",
   "metadata": {},
   "outputs": [],
   "source": [
    "my_file= open('huehue.txt',mode ='a+')   # APpend creates file if not present"
   ]
  },
  {
   "cell_type": "code",
   "execution_count": 28,
   "id": "07d8acda",
   "metadata": {},
   "outputs": [
    {
     "data": {
      "text/plain": [
       "15"
      ]
     },
     "execution_count": 28,
     "metadata": {},
     "output_type": "execute_result"
    }
   ],
   "source": [
    "my_file.write(\"Trying to write\")"
   ]
  },
  {
   "cell_type": "code",
   "execution_count": 29,
   "id": "1f8dccce",
   "metadata": {},
   "outputs": [
    {
     "data": {
      "text/plain": [
       "''"
      ]
     },
     "execution_count": 29,
     "metadata": {},
     "output_type": "execute_result"
    }
   ],
   "source": [
    "my_file.read()"
   ]
  },
  {
   "cell_type": "code",
   "execution_count": 30,
   "id": "5d49dd48",
   "metadata": {},
   "outputs": [],
   "source": [
    "my_file.close()"
   ]
  },
  {
   "cell_type": "code",
   "execution_count": 31,
   "id": "1132d23c",
   "metadata": {},
   "outputs": [],
   "source": [
    "my_file= open('huehue.txt')"
   ]
  },
  {
   "cell_type": "code",
   "execution_count": 32,
   "id": "31e57034",
   "metadata": {},
   "outputs": [
    {
     "ename": "UnsupportedOperation",
     "evalue": "not writable",
     "output_type": "error",
     "traceback": [
      "\u001b[0;31m---------------------------------------------------------------------------\u001b[0m",
      "\u001b[0;31mUnsupportedOperation\u001b[0m                      Traceback (most recent call last)",
      "\u001b[0;32m/var/folders/q6/qq72m1_54ll6wb3r48wv1zzm0000gn/T/ipykernel_86271/2377010707.py\u001b[0m in \u001b[0;36m<module>\u001b[0;34m\u001b[0m\n\u001b[0;32m----> 1\u001b[0;31m \u001b[0mmy_file\u001b[0m\u001b[0;34m.\u001b[0m\u001b[0mwrite\u001b[0m\u001b[0;34m(\u001b[0m\u001b[0;34m\"sdf\"\u001b[0m\u001b[0;34m)\u001b[0m\u001b[0;34m\u001b[0m\u001b[0;34m\u001b[0m\u001b[0m\n\u001b[0m",
      "\u001b[0;31mUnsupportedOperation\u001b[0m: not writable"
     ]
    }
   ],
   "source": [
    "my_file.write(\"sdf\")"
   ]
  },
  {
   "cell_type": "code",
   "execution_count": null,
   "id": "07637411",
   "metadata": {},
   "outputs": [],
   "source": [
    "my_file.seek(0)\n",
    "my_file.read()"
   ]
  },
  {
   "cell_type": "markdown",
   "id": "3fcaf012",
   "metadata": {},
   "source": [
    "#### COntext manager for AUTO CLOSING"
   ]
  },
  {
   "cell_type": "code",
   "execution_count": null,
   "id": "849eb8ed",
   "metadata": {},
   "outputs": [],
   "source": [
    "with open('huehue.txt','r') as mynewfile:\n",
    "    my_variable = mynewfile.readlines()\n"
   ]
  },
  {
   "cell_type": "code",
   "execution_count": null,
   "id": "1fd6f540",
   "metadata": {},
   "outputs": [],
   "source": [
    "my_variable"
   ]
  },
  {
   "cell_type": "markdown",
   "id": "9edb9ca8",
   "metadata": {},
   "source": [
    "## Working of the PDF"
   ]
  },
  {
   "cell_type": "code",
   "execution_count": null,
   "id": "2d388c16",
   "metadata": {},
   "outputs": [],
   "source": [
    "import PyPDF2"
   ]
  },
  {
   "cell_type": "code",
   "execution_count": null,
   "id": "f23ca8e3",
   "metadata": {},
   "outputs": [],
   "source": [
    "myfile= open('Tell me about yourself.pdf',mod)"
   ]
  }
 ],
 "metadata": {
  "kernelspec": {
   "display_name": "Python 3 (ipykernel)",
   "language": "python",
   "name": "python3"
  },
  "language_info": {
   "codemirror_mode": {
    "name": "ipython",
    "version": 3
   },
   "file_extension": ".py",
   "mimetype": "text/x-python",
   "name": "python",
   "nbconvert_exporter": "python",
   "pygments_lexer": "ipython3",
   "version": "3.9.7"
  }
 },
 "nbformat": 4,
 "nbformat_minor": 5
}
